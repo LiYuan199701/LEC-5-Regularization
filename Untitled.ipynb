{
 "cells": [
  {
   "cell_type": "code",
   "execution_count": 7,
   "id": "788652ac",
   "metadata": {},
   "outputs": [],
   "source": [
    "# Cross Validation Classification Confusion Matrix\n",
    "import numpy as np\n",
    "from keras.models import Sequential\n",
    "from keras.layers import Dense\n",
    "from keras.utils import to_categorical\n",
    "import matplotlib.pyplot as plt \n",
    "\n",
    "# import activity regularizer\n",
    "from keras.regularizers import l2  # l1: sum of absolute values  l2: sum of squares \n",
    "# import activity regularizer\n",
    "from keras.regularizers import l1\n",
    "# instantiate regularizer\n",
    "reg = l1(0.001)\n",
    "# import activity regularizer\n",
    "from keras.constraints import max_norm\n",
    "from keras.layers import Dropout\n",
    "from keras.layers import GaussianNoise\n",
    "from keras.callbacks import EarlyStopping"
   ]
  },
  {
   "cell_type": "code",
   "execution_count": 8,
   "id": "18840196",
   "metadata": {},
   "outputs": [
    {
     "name": "stdout",
     "output_type": "stream",
     "text": [
      "\n",
      "DNN_CDB_Spectrogram\n",
      "Enter Chinese (C) or English (E)  E\n",
      "dataset shape=  (2100, 785)\n"
     ]
    }
   ],
   "source": [
    "print('\\nDNN_CDB_Spectrogram')\n",
    "Language = input('Enter Chinese (C) or English (E)  ')\n",
    "filename = Language + 'DB.csv'\n",
    "dataset = np.loadtxt(filename, delimiter=',',dtype=float)\n",
    "np.random.shuffle(dataset)\n",
    "print('dataset shape= ',dataset.shape)\n",
    "X = dataset[:,1:785]\n",
    "y = dataset[:,0]\n",
    "\n",
    "# split into train and test sets\n",
    "rows = y.shape[0]\n",
    "n_train = int(.5*rows)  # 50% of data into training set  25% into validation set\n",
    "Xtrain, Xtest = X[:n_train, :], X[n_train:, :]\n",
    "ytrain, ytest = y[:n_train], y[n_train:]"
   ]
  },
  {
   "cell_type": "code",
   "execution_count": 9,
   "id": "8595b943",
   "metadata": {},
   "outputs": [],
   "source": [
    "def DNNevaluate(model,Xtest,ytest):  # computes CM and PE for test set\n",
    "    Ntest = Xtest.shape[0] # number of rows\n",
    "    CM = np.zeros([10,10], dtype = int)\n",
    "    ypred = model.predict(Xtest) # predicts entire set\n",
    "    for i in range(Ntest):\n",
    "        yclass = np.argmax(ypred[i])   \n",
    "        ytrue = int(ytest[i])\n",
    "        CM[ytrue,yclass] += 1\n",
    "\n",
    "    Nerr = sum(sum(CM))-np.trace(CM)\n",
    "    Ntotal = sum(sum(CM))\n",
    "    PE = Nerr/Ntotal\n",
    "    return Nerr, Ntotal,CM, PE"
   ]
  },
  {
   "cell_type": "code",
   "execution_count": 11,
   "id": "297f67e4",
   "metadata": {},
   "outputs": [
    {
     "data": {
      "image/png": "[encoded data removed]",
      "text/plain": [
       "<Figure size 432x288 with 1 Axes>"
      ]
     },
     "metadata": {
      "needs_background": "light"
     },
     "output_type": "display_data"
    },
    {
     "name": "stdout",
     "output_type": "stream",
     "text": [
      "0.10476190476190476 [0.10714286 0.11047619 0.11238095] 0.1180952380952381\n"
     ]
    }
   ],
   "source": [
    "def DNNfit(Xtrain, ytrain):  \n",
    "    \n",
    "    Nfeatures = Xtrain.shape[1]   # number of columns minus label\n",
    "    Nlayers = 2 # int(input('Number of Hidden layers= '))\n",
    "    Nnodes = 50 # int(input('Number of nodes/layer= '))\n",
    "    Nepochs = 100\n",
    "    \n",
    "    model = Sequential()\n",
    "# first hidden layer\n",
    "    model.add(Dense(Nnodes,  input_dim=Nfeatures, activation='relu'))  # output layer\n",
    "# additional hidden layers    \n",
    "    for n in range(Nlayers-1):  # first hidden layer is previous statement\n",
    "        model.add(Dense(Nnodes, activation='relu'))\n",
    "        \n",
    "    model.add(Dense(10, activation='softmax')) \n",
    "    model.compile(loss='categorical_crossentropy', \n",
    "                  optimizer='adam', metrics=['accuracy'])    \n",
    "    ytrain_onehot = to_categorical(ytrain)\n",
    "    history = model.fit(Xtrain, ytrain_onehot, \n",
    "                  validation_split= .3, \n",
    "                  epochs = Nepochs, verbose=0)\n",
    "    return model, history\n",
    "\n",
    "Nrestarts = 10\n",
    "PEG_vals = np.zeros(Nrestarts)\n",
    "\n",
    "for restart in range(Nrestarts):\n",
    "\n",
    "    model, history = DNNfit(Xtrain, ytrain)\n",
    "    Nerr, Ntotal,CM, PEG = DNNevaluate(model,Xtest,ytest) \n",
    "    PEG_vals[restart] = PEG\n",
    "    \n",
    "\n",
    "    Nerr, Ntotal, CM, PE = DNNevaluate(model,Xtest,ytest)\n",
    "    # print('\\n' + Language + 'DB Restart=  %2d PEG= %.4f' % (restart,PE))\n",
    "    \n",
    "\n",
    "fig = plt.figure()\n",
    "ax = fig.add_subplot(111)\n",
    "ax.boxplot(PEG_vals)\n",
    "ax.set_title(Language + ' - No Regularization')\n",
    "ax.set_xlabel('PEG')\n",
    "ax.set_ylabel('PE')\n",
    "plt.show()\n",
    "\n",
    "# Calculate min, lower box, median, upper box, max\n",
    "print(np.min(PEG_vals),\n",
    "      np.quantile(PEG_vals, [0.25, 0.5, 0.75]),\n",
    "      np.max(PEG_vals))"
   ]
  },
  {
   "cell_type": "code",
   "execution_count": 28,
   "id": "93f42075",
   "metadata": {},
   "outputs": [
    {
     "data": {
      "image/png": "[encoded data removed]",
      "text/plain": [
       "<Figure size 432x288 with 1 Axes>"
      ]
     },
     "metadata": {
      "needs_background": "light"
     },
     "output_type": "display_data"
    },
    {
     "name": "stdout",
     "output_type": "stream",
     "text": [
      "0.1019047619047619 [0.10309524 0.10571429 0.10857143] 0.11238095238095239\n"
     ]
    }
   ],
   "source": [
    "def DNNfit(Xtrain, ytrain):  \n",
    "    \n",
    "    Nfeatures = Xtrain.shape[1]   # number of columns minus label\n",
    "    Nlayers = 2 # int(input('Number of Hidden layers= '))\n",
    "    Nnodes = 50 # int(input('Number of nodes/layer= '))\n",
    "    Nepochs = 100\n",
    "    \n",
    "    model = Sequential()\n",
    "    model.add(GaussianNoise(0.02, input_shape=(784,)))\n",
    "# first hidden layer\n",
    "    model.add(Dense(Nnodes,  input_dim=Nfeatures, activation='relu'))  # output layer\n",
    "# additional hidden layers    \n",
    "    for n in range(Nlayers-1):  # first hidden layer is previous statement\n",
    "        model.add(Dense(Nnodes, activation='relu'))\n",
    "        model.add(Dropout(0.5))\n",
    "        \n",
    "    model.add(Dense(10, activation='softmax')) \n",
    "    model.compile(loss='categorical_crossentropy', \n",
    "                  optimizer='adam', metrics=['accuracy'])  \n",
    "    \n",
    "    # simple early stopping\n",
    "    # es = EarlyStopping(monitor='val_loss', mode='min', verbose=0)\n",
    "    \n",
    "    ytrain_onehot = to_categorical(ytrain)\n",
    "    history = model.fit(Xtrain, ytrain_onehot, \n",
    "                  validation_split= .3, \n",
    "                  epochs = Nepochs, verbose=0)\n",
    "    \n",
    "    return model, history\n",
    "\n",
    "Nrestarts = 10\n",
    "PEG_vals = np.zeros(Nrestarts)\n",
    "\n",
    "for restart in range(Nrestarts):\n",
    "\n",
    "    model, history = DNNfit(Xtrain, ytrain)\n",
    "    Nerr, Ntotal,CM, PEG = DNNevaluate(model,Xtest,ytest) \n",
    "    PEG_vals[restart] = PEG\n",
    "    \n",
    "\n",
    "    Nerr, Ntotal, CM, PE = DNNevaluate(model,Xtest,ytest)\n",
    "    # print('\\n' + Language + 'DB Restart=  %2d PEG= %.4f' % (restart,PE))\n",
    "    \n",
    "\n",
    "fig = plt.figure()\n",
    "ax = fig.add_subplot(111)\n",
    "ax.boxplot(PEG_vals)\n",
    "ax.set_title(Language + ' - No Regularization')\n",
    "ax.set_xlabel('PEG')\n",
    "ax.set_ylabel('PE')\n",
    "plt.show()\n",
    "\n",
    "# Calculate min, lower box, median, upper box, max\n",
    "print(np.min(PEG_vals),\n",
    "      np.quantile(PEG_vals, [0.25, 0.5, 0.75]),\n",
    "      np.max(PEG_vals))"
   ]
  },
  {
   "cell_type": "code",
   "execution_count": null,
   "id": "19753cdb",
   "metadata": {},
   "outputs": [],
   "source": []
  }
 ],
 "metadata": {
  "kernelspec": {
   "display_name": "Python 3",
   "language": "python",
   "name": "python3"
  },
  "language_info": {
   "codemirror_mode": {
    "name": "ipython",
    "version": 3
   },
   "file_extension": ".py",
   "mimetype": "text/x-python",
   "name": "python",
   "nbconvert_exporter": "python",
   "pygments_lexer": "ipython3",
   "version": "3.8.3"
  }
 },
 "nbformat": 4,
 "nbformat_minor": 5
}
