{
 "cells": [
  {
   "cell_type": "markdown",
   "id": "0a8c67ae",
   "metadata": {
    "slideshow": {
     "slide_type": "slide"
    }
   },
   "source": [
    "# Two Initial Methods for CNN\n",
    "\n",
    "## One is an initial method of data augmentation\n",
    "## second is an initial method of committe vote"
   ]
  },
  {
   "cell_type": "markdown",
   "id": "66be0bfd",
   "metadata": {},
   "source": [
    "# The advantages of our new data augmenation \n",
    "\n",
    "1. Use random multiple original inputs to create one new data (stochastic)\n",
    "2. Create new data based on each category instead of the whole new dataset to imporve feature extraction (classify)\n",
    "3. New data can be randomly selected to create another new data (self-adaptive)\n",
    "4. Focus on feature extraction to create new data (committe vote)\n",
    "5. Give multiple tune parameters to find best new data (tune parameter)\n",
    "\n",
    "# The disadvantaged of our new data augmentation\n",
    "\n",
    "## Slightly complex to implement\n",
    "\n",
    "1. Sepe"
   ]
  }
 ],
 "metadata": {
  "celltoolbar": "Slideshow",
  "kernelspec": {
   "display_name": "Python 3",
   "language": "python",
   "name": "python3"
  },
  "language_info": {
   "codemirror_mode": {
    "name": "ipython",
    "version": 3
   },
   "file_extension": ".py",
   "mimetype": "text/x-python",
   "name": "python",
   "nbconvert_exporter": "python",
   "pygments_lexer": "ipython3",
   "version": "3.8.3"
  }
 },
 "nbformat": 4,
 "nbformat_minor": 5
}
