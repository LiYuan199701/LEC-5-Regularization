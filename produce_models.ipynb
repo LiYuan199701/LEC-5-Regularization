{
 "metadata": {
  "language_info": {
   "codemirror_mode": {
    "name": "ipython",
    "version": 3
   },
   "file_extension": ".py",
   "mimetype": "text/x-python",
   "name": "python",
   "nbconvert_exporter": "python",
   "pygments_lexer": "ipython3",
   "version": "3.8.3"
  },
  "orig_nbformat": 4,
  "kernelspec": {
   "name": "python3",
   "display_name": "Python 3.8.3 64-bit ('base': conda)"
  },
  "interpreter": {
   "hash": "0a3639af170be501a1b98eccbb561b3aa1181b49744dcf3f527189d539716f03"
  }
 },
 "nbformat": 4,
 "nbformat_minor": 2,
 "cells": [
  {
   "source": [
    "# Produce 10 different models for committee vote"
   ],
   "cell_type": "markdown",
   "metadata": {}
  },
  {
   "cell_type": "code",
   "execution_count": 193,
   "metadata": {},
   "outputs": [],
   "source": [
    "import numpy as np\n",
    "import matplotlib.pyplot as plt\n",
    "from matplotlib.pyplot import imshow\n",
    "from keras.datasets import mnist\n",
    "\n",
    "from keras.preprocessing.image import ImageDataGenerator\n",
    "import os\n",
    "\n",
    "import sklearn\n",
    "from sklearn.utils import shuffle\n",
    "\n",
    "from tensorflow import keras\n",
    "from tensorflow.keras import layers\n",
    "\n",
    "import copy\n",
    "\n",
    "%matplotlib inline\n",
    "%config InlineBackend.figure_format = 'svg'\n",
    "\n",
    "from scipy import stats\n",
    "\n",
    "from module1 import *"
   ]
  },
  {
   "source": [
    "# Write a function to redefine committe vote"
   ],
   "cell_type": "markdown",
   "metadata": {}
  },
  {
   "cell_type": "code",
   "execution_count": 221,
   "metadata": {},
   "outputs": [],
   "source": [
    "def committe_vote(p, **kwargs):\n",
    "    '''\n",
    "    redefine a new committe vote modality\n",
    "    '''\n",
    "    con = []\n",
    "    for key, value in kwargs.items():\n",
    "        value = np.expand_dims(value, 0)\n",
    "        con.append(value)\n",
    "    new = np.concatenate(con, axis = 0)\n",
    "    num_test = new.shape[1]\n",
    "    num_model = new.shape[0]\n",
    "    num_class = new.shape[2]\n",
    "    pred = np.empty(shape=num_test)\n",
    "\n",
    "    for i in range(num_test):\n",
    "        ma = new[:, i, :]\n",
    "        vote = np.empty(num_model)\n",
    "        ind_pro = {0: [], 1: [],2: [],3: [],4: [],5: [],6: [],7: [],8: [],9: []}\n",
    "        for j in np.arange(num_model):\n",
    "            vote[j] = np.argmax(ma[j, :])\n",
    "            ind_pro.get(vote[j]).append(np.amax(ma[j, :]))\n",
    "        m, n = stats.mode(vote, axis=None)\n",
    "        if n >= num_model * p:\n",
    "            pred[i] = m\n",
    "        else:\n",
    "            ind_new = {}\n",
    "            for key, value in ind_pro.items():\n",
    "                if value != []:\n",
    "                    ind_new[key] = value\n",
    "            ind_mean = {}\n",
    "            ind_num = {}\n",
    "            for key, value in ind_new.items():\n",
    "                ind_mean[key] = np.mean(value)\n",
    "                ind_num[key] = len(value)\n",
    "            ind_final = {}\n",
    "            for key in ind_new:\n",
    "                ind_final[key] = ind_mean[key] * ind_num[key] / num_model\n",
    "            need = max(ind_final.values())\n",
    "            for key, value in ind_final.items():\n",
    "                if value == need:\n",
    "                    pred[i] = key\n",
    "    return pred"
   ]
  },
  {
   "cell_type": "code",
   "execution_count": 204,
   "metadata": {},
   "outputs": [
    {
     "output_type": "execute_result",
     "data": {
      "text/plain": [
       "array([8., 0., 7., ..., 4., 4., 2.])"
      ]
     },
     "metadata": {},
     "execution_count": 204
    }
   ],
   "source": [
    "a1 = np.random.rand(10000,10)\n",
    "a2 = np.random.rand(10000,10)\n",
    "a3 = np.random.rand(10000,10)\n",
    "committe_vote(0.7, model1 = a1, model2 = a2, model3 = a3)"
   ]
  },
  {
   "source": [
    "# Test this new committe vote modality"
   ],
   "cell_type": "markdown",
   "metadata": {}
  },
  {
   "cell_type": "code",
   "execution_count": 253,
   "metadata": {},
   "outputs": [],
   "source": [
    "# the data, split between train and test sets\n",
    "(X_train, y_train), (x_test, y_test) = keras.datasets.mnist.load_data()\n",
    "\n",
    "# Scale images to the [0, 1] range\n",
    "x_test = x_test.astype(\"float32\") / 255\n",
    "#X_train = X_train.astype(\"float32\") / 255\n",
    "# Make sure images have shape (28, 28, 1)\n",
    "X_train = np.expand_dims(X_train, -1)\n",
    "x_test = np.expand_dims(x_test, -1)"
   ]
  },
  {
   "cell_type": "code",
   "execution_count": 278,
   "metadata": {},
   "outputs": [],
   "source": [
    "X_com = X_train[:600, :, :, :]\n",
    "y_com = y_train[:600]"
   ]
  },
  {
   "cell_type": "code",
   "execution_count": 279,
   "metadata": {},
   "outputs": [
    {
     "output_type": "stream",
     "name": "stdout",
     "text": [
      "313/313 [==============================] - 1s 2ms/step\n",
      "313/313 [==============================] - 0s 1ms/step\n",
      "313/313 [==============================] - 1s 1ms/step\n",
      "313/313 [==============================] - 0s 1ms/step\n",
      "313/313 [==============================] - 1s 2ms/step\n",
      "313/313 [==============================] - 1s 1ms/step\n",
      "313/313 [==============================] - 1s 1ms/step\n",
      "313/313 [==============================] - 1s 2ms/step\n",
      "313/313 [==============================] - 1s 1ms/step\n",
      "313/313 [==============================] - 0s 1ms/step\n"
     ]
    }
   ],
   "source": [
    "model, history = CNNfit(X_com, y_com)\n",
    "y1 = model.predict(x_test, verbose = 1)\n",
    "model, history = CNNfit(X_com, y_com)\n",
    "y2 = model.predict(x_test, verbose = 1)\n",
    "model, history = CNNfit(X_com, y_com)\n",
    "y3 = model.predict(x_test, verbose = 1)\n",
    "model, history = CNNfit(X_com, y_com)\n",
    "y4 = model.predict(x_test, verbose = 1)\n",
    "model, history = CNNfit(X_com, y_com)\n",
    "y5 = model.predict(x_test, verbose = 1)\n",
    "model, history = CNNfit(X_com, y_com)\n",
    "y6 = model.predict(x_test, verbose = 1)\n",
    "model, history = CNNfit(X_com, y_com)\n",
    "y7 = model.predict(x_test, verbose = 1)\n",
    "model, history = CNNfit(X_com, y_com)\n",
    "y8 = model.predict(x_test, verbose = 1)\n",
    "model, history = CNNfit(X_com, y_com)\n",
    "y9 = model.predict(x_test, verbose = 1)\n",
    "model, history = CNNfit(X_com, y_com)\n",
    "y10 = model.predict(x_test, verbose = 1)"
   ]
  },
  {
   "cell_type": "code",
   "execution_count": 288,
   "metadata": {},
   "outputs": [
    {
     "output_type": "stream",
     "name": "stdout",
     "text": [
      "2219\n",
      "Committee of 10 votes gives PEG= 22.1900\n",
      "2150\n",
      "Committee of 10 votes gives PEG= 21.5000\n",
      "\n",
      "The improvance is 0.690000 and 69 more rights.\n"
     ]
    }
   ],
   "source": [
    "Nerr1 = 0\n",
    "for i in range(len(y_test)):\n",
    "    v1 = np.argmax(y1[i])\n",
    "    v2 = np.argmax(y2[i])\n",
    "    v3 = np.argmax(y3[i])\n",
    "    v4 = np.argmax(y4[i])\n",
    "    v5 = np.argmax(y5[i])\n",
    "    v6 = np.argmax(y6[i])\n",
    "    v7 = np.argmax(y7[i])\n",
    "    v8 = np.argmax(y8[i])\n",
    "    v9 = np.argmax(y9[i])\n",
    "    v10 = np.argmax(y10[i])\n",
    "    vote = np.median([v1,v2,v3,v4,v5,v6,v7,v8,v9,v10])\n",
    "    if int(vote) != int(y_test[i]):\n",
    "        Nerr1 += 1\n",
    "\n",
    "PEG1 = Nerr1/len(y_test)\n",
    "print(Nerr1)\n",
    "print('Committee of %d votes gives PEG= %.4f' % (10,PEG1*100)) \n",
    "\n",
    "\n",
    "re = committe_vote(p=0.70, m1 = y1, m2 = y2, m3 = y3, m4 = y4, m5 = y5, m6 = y6, m7 = y7, m8 = y8, m9 = y9, m10 = y10)\n",
    "Nerr2 = 0\n",
    "for i in range(len(y_test)):\n",
    "    if int(re[i]) != int(y_test[i]):\n",
    "        Nerr2 += 1\n",
    "\n",
    "PEG2 = Nerr2/len(y_test)\n",
    "print(Nerr2)\n",
    "print('Committee of %d votes gives PEG= %.4f' % (10,PEG2*100)) \n",
    "print('\\nThe improvance is %.6f and %d more rights.' % (PEG1*100 - PEG2*100, Nerr1 - Nerr2))"
   ]
  },
  {
   "cell_type": "code",
   "execution_count": null,
   "metadata": {},
   "outputs": [],
   "source": []
  }
 ]
}