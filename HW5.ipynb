{
 "cells": [
  {
   "cell_type": "markdown",
   "id": "5f8447e3",
   "metadata": {},
   "source": [
    "# Run DNN_DB_Spectrogram.py to classify the English digits in EDB. Copy and paste the CM and PEG value."
   ]
  },
  {
   "cell_type": "code",
   "execution_count": 20,
   "id": "bd2fdc9e",
   "metadata": {},
   "outputs": [],
   "source": [
    "# Cross Validation Classification Confusion Matrix\n",
    "import numpy as np\n",
    "from keras.models import Sequential\n",
    "from keras.layers import Dense\n",
    "from keras.utils import to_categorical\n",
    "import matplotlib.pyplot as plt "
   ]
  },
  {
   "cell_type": "code",
   "execution_count": 60,
   "id": "2bda913a",
   "metadata": {},
   "outputs": [
    {
     "name": "stdout",
     "output_type": "stream",
     "text": [
      "\n",
      "DNN_CDB_Spectrogram\n",
      "Enter Chinese (C) or English (E)  E\n",
      "dataset shape=  (2100, 785)\n",
      "Number of Hidden layers= 2\n",
      "Number of nodes/layer= 16\n"
     ]
    },
    {
     "data": {
      "image/png": "[encoded data removed]",
      "text/plain": [
       "<Figure size 432x288 with 2 Axes>"
      ]
     },
     "metadata": {
      "needs_background": "light"
     },
     "output_type": "display_data"
    },
    {
     "name": "stdout",
     "output_type": "stream",
     "text": [
      "\n",
      "EDB.csv CM=\n",
      " [[ 88   0   4   1   1   0   2   3   1   3]\n",
      " [  0  94   0   0   2   2   1   0   0   3]\n",
      " [  2   0  75   3   5   1   2   2   7   0]\n",
      " [  0   0   2 103   0   1   3   0   2   1]\n",
      " [  3   6   0   0  97   0   0   0   0   0]\n",
      " [  2  15   2   0   0  88   1   2   0   4]\n",
      " [  0   0   2   0   0   0  90   2   5   0]\n",
      " [  1   1   1   1   0   0   5 101   0   1]\n",
      " [  0   0   2   2   0   0  12   0  77   0]\n",
      " [  1  10   0   2   0  10   1   2   1  86]]\n",
      "\n",
      "EDB.csv Nerr= 151\n",
      "\n",
      "EDB.csv Ntotal= 1050\n",
      "\n",
      "EDB.csv PEG= 0.1438\n"
     ]
    }
   ],
   "source": [
    "print('\\nDNN_CDB_Spectrogram')\n",
    "Language = input('Enter Chinese (C) or English (E)  ')\n",
    "filename = Language + 'DB.csv'\n",
    "dataset = np.loadtxt(filename, delimiter=',',dtype=float)\n",
    "np.random.shuffle(dataset)\n",
    "print('dataset shape= ',dataset.shape)\n",
    "X = dataset[:,1:785]\n",
    "y = dataset[:,0]\n",
    "\n",
    "# split into train and test sets\n",
    "rows = y.shape[0]\n",
    "n_train = int(.5*rows)  # 50% of data into training set  25% into validation set\n",
    "Xtrain, Xtest = X[:n_train, :], X[n_train:, :]\n",
    "ytrain, ytest = y[:n_train], y[n_train:]\n",
    " \n",
    "\n",
    "def DNNfit(Nfeatures, Xtrain, ytrain):  \n",
    "    \n",
    "# Nepochs times Nsamples should be about 1E6  (million!)\n",
    "    Nlayers = int(input('Number of Hidden layers= '))\n",
    "    Nnodes = int(input('Number of nodes/layer= '))\n",
    "      \n",
    "    Nepochs = 100\n",
    "    \n",
    "    model = Sequential()\n",
    "\n",
    "# first hidden layer\n",
    "    model.add(Dense(Nnodes, input_dim=Nfeatures, activation='relu'))\n",
    "\n",
    "# additional hidden layers    \n",
    "    for n in range(Nlayers-1):  # first hidden layer is previous statement\n",
    "        model.add(Dense(Nnodes, activation='relu'))\n",
    "\n",
    "# output layer\n",
    "    model.add(Dense(10, activation='softmax'))     \n",
    "    model.compile(loss='categorical_crossentropy', \n",
    "                  optimizer='adam', metrics=['accuracy'])\n",
    "     \n",
    "    ytrain_onehot = to_categorical(ytrain)\n",
    "    history = model.fit(Xtrain, ytrain_onehot, \n",
    "                  validation_split= .3, \n",
    "                  epochs = Nepochs, verbose=0)\n",
    "    return model, history\n",
    " \n",
    "def DNNevaluate(model,Xtest,ytest):  # computes CM and PE for test set\n",
    "    Ntest = Xtest.shape[0] # number of rows\n",
    "    CM = np.zeros([10,10], dtype = int)\n",
    "    ypred = model.predict(Xtest) # predicts entire set\n",
    "    for i in range(Ntest):\n",
    "        yclass = np.argmax(ypred[i])   \n",
    "        ytrue = int(ytest[i])\n",
    "        CM[ytrue,yclass] += 1\n",
    "\n",
    "    Nerr = sum(sum(CM))-np.trace(CM)\n",
    "    Ntotal = sum(sum(CM))\n",
    "    PE = Nerr/Ntotal\n",
    "    return Nerr, Ntotal,CM, PE\n",
    "\n",
    "\n",
    "Nfeatures = 784\n",
    "model, history = DNNfit(Nfeatures, Xtrain, ytrain)   \n",
    "# plot loss learning curves\n",
    "plt.subplot(211)\n",
    "plt.title(filename + ' Cross-Entropy Loss', pad=-40)\n",
    "plt.plot(history.history['loss'], label='train')\n",
    "plt.plot(history.history['val_loss'], label='val')\n",
    "plt.legend()\n",
    "# plot accuracy learning curves\n",
    "plt.subplot(212)\n",
    "plt.title(filename + 'Accuracy', pad=-40)\n",
    "plt.plot(history.history['accuracy'], label='train')\n",
    "plt.plot(history.history['val_accuracy'], label='val')\n",
    "plt.legend()\n",
    "plt.show()\n",
    "\n",
    "\n",
    "\n",
    "Nerr, Ntotal, CM, PE = DNNevaluate(model,Xtest,ytest)\n",
    "print('\\n' + filename + ' CM=\\n', CM)\n",
    "print('\\n' + filename + ' Nerr= %d' % Nerr)\n",
    "print('\\n' + filename + ' Ntotal= %d' % Ntotal)\n",
    "print('\\n' + filename + ' PEG= %.4f' % PE)"
   ]
  },
  {
   "cell_type": "markdown",
   "id": "3ec5eb3b",
   "metadata": {},
   "source": [
    "# Modify your name_Lec5 HW1.py by specifying the DNN structure (Nlay- ers, Nnodes, and Nepochs) that reduces the PEGs. Copy and paste the CM and PEG value."
   ]
  },
  {
   "cell_type": "code",
   "execution_count": 22,
   "id": "819d272a",
   "metadata": {},
   "outputs": [
    {
     "name": "stdout",
     "output_type": "stream",
     "text": [
      "Number of Hidden layers= 1\n",
      "Number of nodes/layer= 30\n"
     ]
    },
    {
     "data": {
      "image/png": "[encoded data removed]",
      "text/plain": [
       "<Figure size 432x288 with 2 Axes>"
      ]
     },
     "metadata": {
      "needs_background": "light"
     },
     "output_type": "display_data"
    },
    {
     "name": "stdout",
     "output_type": "stream",
     "text": [
      "\n",
      "EDB.csv CM=\n",
      " [[ 82   0   6   3   1   1   1   0   1   2]\n",
      " [  0  92   0   0   4   5   0   2   0   2]\n",
      " [  1   0  84   5   3   1   0   0   1   0]\n",
      " [  0   0   0 101   0   1   0   0   2   0]\n",
      " [  0   1   1   0  98   0   0   0   1   1]\n",
      " [  0   4   1   0   3  97   2   1   0  11]\n",
      " [  0   0   7   3   0   1  86   0   9   0]\n",
      " [  1   0   9   0   0   2   3  91   2   4]\n",
      " [  0   0   4   2   0   0   2   0  91   0]\n",
      " [  0   3   2   0   1  12   1   0   0  92]]\n",
      "\n",
      "EDB.csv Nerr= 136\n",
      "\n",
      "EDB.csv Ntotal= 1050\n",
      "\n",
      "EDB.csv PEG= 0.1295\n"
     ]
    }
   ],
   "source": [
    "Nfeatures = 784\n",
    "model, history = DNNfit(Nfeatures, Xtrain, ytrain)   \n",
    "# plot loss learning curves\n",
    "plt.subplot(211)\n",
    "plt.title(filename + ' Cross-Entropy Loss', pad=-40)\n",
    "plt.plot(history.history['loss'], label='train')\n",
    "plt.plot(history.history['val_loss'], label='val')\n",
    "plt.legend()\n",
    "# plot accuracy learning curves\n",
    "plt.subplot(212)\n",
    "plt.title(filename + 'Accuracy', pad=-40)\n",
    "plt.plot(history.history['accuracy'], label='train')\n",
    "plt.plot(history.history['val_accuracy'], label='val')\n",
    "plt.legend()\n",
    "plt.show()\n",
    "\n",
    "\n",
    "\n",
    "Nerr, Ntotal, CM, PE = DNNevaluate(model,Xtest,ytest)\n",
    "print('\\n' + filename + ' CM=\\n', CM)\n",
    "print('\\n' + filename + ' Nerr= %d' % Nerr)\n",
    "print('\\n' + filename + ' Ntotal= %d' % Ntotal)\n",
    "print('\\n' + filename + ' PEG= %.4f' % PE)"
   ]
  },
  {
   "cell_type": "markdown",
   "id": "513d9c2d",
   "metadata": {},
   "source": [
    "**By setting Hidden layer = 1 and nodes = 30, our PEG reduces from 0.1514 to 0.1295.**"
   ]
  },
  {
   "cell_type": "markdown",
   "id": "c6f5320d",
   "metadata": {},
   "source": [
    "# Lec5 HW3. After replacing the DNN in the 7 regularization programs above with your DNN, fill in the values in the following tables from the Box plots for the Chinese spoken digits and the English spoken digits."
   ]
  },
  {
   "cell_type": "markdown",
   "id": "65754834",
   "metadata": {},
   "source": [
    "## No Regularization"
   ]
  },
  {
   "cell_type": "code",
   "execution_count": 23,
   "id": "251c62f5",
   "metadata": {},
   "outputs": [
    {
     "name": "stdout",
     "output_type": "stream",
     "text": [
      "\n",
      "EDB Restart=   0 PEG= 0.1171\n",
      "\n",
      "EDB Restart=   1 PEG= 0.1162\n",
      "\n",
      "EDB Restart=   2 PEG= 0.1181\n",
      "\n",
      "EDB Restart=   3 PEG= 0.1162\n",
      "\n",
      "EDB Restart=   4 PEG= 0.1238\n",
      "\n",
      "EDB Restart=   5 PEG= 0.1133\n",
      "\n",
      "EDB Restart=   6 PEG= 0.1124\n",
      "\n",
      "EDB Restart=   7 PEG= 0.1133\n",
      "\n",
      "EDB Restart=   8 PEG= 0.1067\n",
      "\n",
      "EDB Restart=   9 PEG= 0.1057\n"
     ]
    },
    {
     "data": {
      "image/png": "[encoded data removed]",
      "text/plain": [
       "<Figure size 432x288 with 1 Axes>"
      ]
     },
     "metadata": {
      "needs_background": "light"
     },
     "output_type": "display_data"
    }
   ],
   "source": [
    "def DNNfit(Xtrain, ytrain):  \n",
    "    \n",
    "    Nfeatures = Xtrain.shape[1]   # number of columns minus label\n",
    "    Nlayers = 2 # int(input('Number of Hidden layers= '))\n",
    "    Nnodes = 50 # int(input('Number of nodes/layer= '))\n",
    "    Nepochs = 100\n",
    "    \n",
    "    model = Sequential()\n",
    "# first hidden layer\n",
    "    model.add(Dense(Nnodes,  input_dim=Nfeatures, activation='relu'))  # output layer\n",
    "# additional hidden layers    \n",
    "    for n in range(Nlayers-1):  # first hidden layer is previous statement\n",
    "        model.add(Dense(Nnodes, activation='relu'))\n",
    "    model.add(Dense(10, activation='softmax')) \n",
    "    model.compile(loss='categorical_crossentropy', \n",
    "                  optimizer='adam', metrics=['accuracy'])    \n",
    "    ytrain_onehot = to_categorical(ytrain)\n",
    "    history = model.fit(Xtrain, ytrain_onehot, \n",
    "                  validation_split= .3, \n",
    "                  epochs = Nepochs, verbose=0)\n",
    "    return model, history\n",
    " \n",
    "Nrestarts = 10\n",
    "PEG_vals_no = np.zeros(Nrestarts)\n",
    "\n",
    "for restart in range(Nrestarts):\n",
    "\n",
    "    model, history = DNNfit(Xtrain, ytrain)\n",
    "    Nerr, Ntotal,CM, PEG = DNNevaluate(model,Xtest,ytest) \n",
    "    PEG_vals_no[restart] = PEG\n",
    "    \n",
    "\n",
    "    Nerr, Ntotal, CM, PE = DNNevaluate(model,Xtest,ytest)\n",
    "    print('\\n' + Language + 'DB Restart=  %2d PEG= %.4f' % (restart,PE))\n",
    "    \n",
    "    \n",
    "fig = plt.figure()\n",
    "ax = fig.add_subplot(111)\n",
    "ax.boxplot(PEG_vals_no)\n",
    "ax.set_title(Language + ' - No Regularization')\n",
    "ax.set_xlabel('PEG')\n",
    "ax.set_ylabel('PE')\n",
    "plt.show()    "
   ]
  },
  {
   "cell_type": "code",
   "execution_count": 29,
   "id": "ee7a14a2",
   "metadata": {},
   "outputs": [
    {
     "name": "stdout",
     "output_type": "stream",
     "text": [
      "0.10571428571428572 [0.11261905 0.1147619  0.11690476] 0.12380952380952381\n"
     ]
    }
   ],
   "source": [
    "# Calculate min, lower box, median, upper box, max\n",
    "print(np.min(PEG_vals_no),\n",
    "      np.quantile(PEG_vals_no, [0.25, 0.5, 0.75]),\n",
    "      np.max(PEG_vals_no))"
   ]
  },
  {
   "cell_type": "markdown",
   "id": "ee1dc05f",
   "metadata": {},
   "source": [
    "## Weight Size Regularization"
   ]
  },
  {
   "cell_type": "code",
   "execution_count": 3,
   "id": "c2c9c907",
   "metadata": {},
   "outputs": [],
   "source": [
    "# import activity regularizer\n",
    "from keras.regularizers import l2  # l1: sum of absolute values  l2: sum of squares  "
   ]
  },
  {
   "cell_type": "code",
   "execution_count": 30,
   "id": "93dc754f",
   "metadata": {},
   "outputs": [
    {
     "name": "stdout",
     "output_type": "stream",
     "text": [
      "\n",
      "EDB Restart=   0 PEG= 0.1200\n",
      "\n",
      "EDB Restart=   1 PEG= 0.1143\n",
      "\n",
      "EDB Restart=   2 PEG= 0.1210\n",
      "\n",
      "EDB Restart=   3 PEG= 0.1143\n",
      "\n",
      "EDB Restart=   4 PEG= 0.1362\n",
      "\n",
      "EDB Restart=   5 PEG= 0.1162\n",
      "\n",
      "EDB Restart=   6 PEG= 0.1400\n",
      "\n",
      "EDB Restart=   7 PEG= 0.1238\n",
      "\n",
      "EDB Restart=   8 PEG= 0.1210\n",
      "\n",
      "EDB Restart=   9 PEG= 0.1400\n"
     ]
    },
    {
     "data": {
      "image/png": "[encoded data removed]",
      "text/plain": [
       "<Figure size 432x288 with 1 Axes>"
      ]
     },
     "metadata": {
      "needs_background": "light"
     },
     "output_type": "display_data"
    }
   ],
   "source": [
    "def DNNfit(Xtrain, ytrain):  \n",
    "    \n",
    "    Nfeatures = Xtrain.shape[1]   # number of columns minus label\n",
    "    Nlayers = 2 # int(input('Number of Hidden layers= '))\n",
    "    Nnodes = 50 # int(input('Number of nodes/layer= '))\n",
    "    Nepochs = 100\n",
    "    \n",
    "    model = Sequential()\n",
    "# first hidden layer\n",
    "    model.add(Dense(Nnodes,  input_dim=Nfeatures, activation='relu', kernel_regularizer=l2(0.01), bias_regularizer=l2(0.01)))  # output layer\n",
    "# additional hidden layers    \n",
    "    for n in range(Nlayers-1):  # first hidden layer is previous statement\n",
    "        model.add(Dense(Nnodes, kernel_regularizer=l2(0.01), bias_regularizer=l2(0.01)))  # output layer\n",
    "    model.add(Dense(10, activation='softmax'))     \n",
    "    model.compile(loss='categorical_crossentropy', \n",
    "                  optimizer='adam', metrics=['accuracy'])    \n",
    "    ytrain_onehot = to_categorical(ytrain)\n",
    "    history = model.fit(Xtrain, ytrain_onehot, \n",
    "                  validation_split= .3, \n",
    "                  epochs = Nepochs, verbose=0)\n",
    "    return model, history\n",
    " \n",
    "Nrestarts = 10\n",
    "PEG_vals_size = np.zeros(Nrestarts)\n",
    "\n",
    "for restart in range(Nrestarts):\n",
    "\n",
    "    model, history = DNNfit(Xtrain, ytrain)\n",
    "    \n",
    "    # evaluate PEG\n",
    "    Nerr, Ntotal,CM, PEG = DNNevaluate(model,Xtest,ytest) \n",
    "    PEG_vals_size[restart] = PEG\n",
    "    \n",
    "\n",
    "    Nerr, Ntotal, CM, PE = DNNevaluate(model,Xtest,ytest)\n",
    "    print('\\n' + Language + 'DB Restart=  %2d PEG= %.4f' % (restart,PE))\n",
    "    \n",
    "    \n",
    "fig = plt.figure()\n",
    "ax = fig.add_subplot(111)\n",
    "ax.boxplot(PEG_vals_size)\n",
    "ax.set_title(Language + ' - Weight Size Regularization')\n",
    "ax.set_xlabel('PEG')\n",
    "ax.set_ylabel('PE')\n",
    "plt.show()"
   ]
  },
  {
   "cell_type": "code",
   "execution_count": 31,
   "id": "0173dce5",
   "metadata": {},
   "outputs": [
    {
     "name": "stdout",
     "output_type": "stream",
     "text": [
      "0.11428571428571428 [0.11714286 0.12095238 0.13309524] 0.14\n"
     ]
    }
   ],
   "source": [
    "# Calculate min, lower box, median, upper box, max\n",
    "print(np.min(PEG_vals_size),\n",
    "      np.quantile(PEG_vals_size, [0.25, 0.5, 0.75]),\n",
    "      np.max(PEG_vals_size))"
   ]
  },
  {
   "cell_type": "markdown",
   "id": "bb70cb23",
   "metadata": {},
   "source": [
    "## Train activity"
   ]
  },
  {
   "cell_type": "code",
   "execution_count": 4,
   "id": "efab66a5",
   "metadata": {},
   "outputs": [],
   "source": [
    "# import activity regularizer\n",
    "from keras.regularizers import l1\n",
    "# instantiate regularizer\n",
    "reg = l1(0.001)"
   ]
  },
  {
   "cell_type": "code",
   "execution_count": 34,
   "id": "7bd39fbd",
   "metadata": {},
   "outputs": [
    {
     "name": "stdout",
     "output_type": "stream",
     "text": [
      "\n",
      "EDB Restart=   0 PEG= 0.1000\n",
      "\n",
      "EDB Restart=   1 PEG= 0.1124\n",
      "\n",
      "EDB Restart=   2 PEG= 0.0971\n",
      "\n",
      "EDB Restart=   3 PEG= 0.0990\n",
      "\n",
      "EDB Restart=   4 PEG= 0.1067\n",
      "\n",
      "EDB Restart=   5 PEG= 0.1019\n",
      "\n",
      "EDB Restart=   6 PEG= 0.1010\n",
      "\n",
      "EDB Restart=   7 PEG= 0.1105\n",
      "\n",
      "EDB Restart=   8 PEG= 0.1152\n",
      "\n",
      "EDB Restart=   9 PEG= 0.1057\n"
     ]
    },
    {
     "data": {
      "image/png": "[encoded data removed]",
      "text/plain": [
       "<Figure size 432x288 with 1 Axes>"
      ]
     },
     "metadata": {
      "needs_background": "light"
     },
     "output_type": "display_data"
    }
   ],
   "source": [
    "def DNNfit(Xtrain, ytrain):  \n",
    "    \n",
    "    Nfeatures = Xtrain.shape[1]   # number of columns minus label\n",
    "    Nlayers = 2 # int(input('Number of Hidden layers= '))\n",
    "    Nnodes = 50 # int(input('Number of nodes/layer= '))\n",
    "    Nepochs = 100\n",
    "    \n",
    "    model = Sequential()\n",
    "# first hidden layer\n",
    "    model.add(Dense(Nnodes, input_dim=Nfeatures, activation='relu', activity_regularizer=l1(0.001)))\n",
    "# additional hidden layers    \n",
    "    for n in range(Nlayers-1):  # first hidden layer is previous statement\n",
    "        model.add(Dense(Nnodes, activation='relu', activity_regularizer=l1(0.001)))\n",
    "  # output layer\n",
    "    model.add(Dense(10, activation='softmax'))     \n",
    "    model.compile(loss='categorical_crossentropy', \n",
    "                  optimizer='adam', metrics=['accuracy'])    \n",
    "    ytrain_onehot = to_categorical(ytrain)\n",
    "    history = model.fit(Xtrain, ytrain_onehot, \n",
    "                  validation_split= .3, \n",
    "                  epochs = Nepochs, verbose=0)\n",
    "    return model, history\n",
    "\n",
    "Nrestarts = 10\n",
    "PEG_vals_act = np.zeros(Nrestarts)\n",
    "\n",
    "for restart in range(Nrestarts):\n",
    "\n",
    "    model, history = DNNfit(Xtrain, ytrain)\n",
    " \n",
    "    # evaluate PEG\n",
    "    Nerr, Ntotal,CM, PEG = DNNevaluate(model,Xtest,ytest) \n",
    "    PEG_vals_act[restart] = PEG\n",
    "    \n",
    "\n",
    "    Nerr, Ntotal, CM, PE = DNNevaluate(model,Xtest,ytest)\n",
    "    print('\\n' + Language + 'DB Restart=  %2d PEG= %.4f' % (restart,PE))\n",
    "    \n",
    "fig = plt.figure()\n",
    "ax = fig.add_subplot(111)\n",
    "ax.boxplot(PEG_vals_act)\n",
    "ax.set_title(Language + ' - Activity Regularization')\n",
    "ax.set_xlabel('PEG')\n",
    "ax.set_ylabel('PE')\n",
    "plt.show()"
   ]
  },
  {
   "cell_type": "code",
   "execution_count": 35,
   "id": "1d7d4f91",
   "metadata": {},
   "outputs": [
    {
     "name": "stdout",
     "output_type": "stream",
     "text": [
      "0.09714285714285714 [0.1002381  0.10380952 0.10952381] 0.11523809523809524\n"
     ]
    }
   ],
   "source": [
    "# Calculate min, lower box, median, upper box, max\n",
    "print(np.min(PEG_vals_act),\n",
    "      np.quantile(PEG_vals_act, [0.25, 0.5, 0.75]),\n",
    "      np.max(PEG_vals_act))"
   ]
  },
  {
   "cell_type": "markdown",
   "id": "15104e7e",
   "metadata": {},
   "source": [
    "## Weight constraint"
   ]
  },
  {
   "cell_type": "code",
   "execution_count": 12,
   "id": "19bde26c",
   "metadata": {},
   "outputs": [],
   "source": [
    "# import activity regularizer\n",
    "from keras.constraints import max_norm"
   ]
  },
  {
   "cell_type": "code",
   "execution_count": 36,
   "id": "31021db2",
   "metadata": {},
   "outputs": [
    {
     "name": "stdout",
     "output_type": "stream",
     "text": [
      "\n",
      "EDB Restart=   0 PEG= 0.1124\n",
      "\n",
      "EDB Restart=   1 PEG= 0.1133\n",
      "\n",
      "EDB Restart=   2 PEG= 0.1143\n",
      "\n",
      "EDB Restart=   3 PEG= 0.1210\n",
      "\n",
      "EDB Restart=   4 PEG= 0.1105\n",
      "\n",
      "EDB Restart=   5 PEG= 0.1143\n",
      "\n",
      "EDB Restart=   6 PEG= 0.1162\n",
      "\n",
      "EDB Restart=   7 PEG= 0.1162\n",
      "\n",
      "EDB Restart=   8 PEG= 0.1143\n",
      "\n",
      "EDB Restart=   9 PEG= 0.1229\n"
     ]
    },
    {
     "data": {
      "image/png": "[encoded data removed]",
      "text/plain": [
       "<Figure size 432x288 with 1 Axes>"
      ]
     },
     "metadata": {
      "needs_background": "light"
     },
     "output_type": "display_data"
    }
   ],
   "source": [
    "def DNNfit(Xtrain, ytrain):  \n",
    "    \n",
    "    Nfeatures = Xtrain.shape[1]   # number of columns minus label\n",
    "    Nlayers = 2 # int(input('Number of Hidden layers= '))\n",
    "    Nnodes = 50 # int(input('Number of nodes/layer= '))\n",
    "    Nepochs = 100\n",
    "    \n",
    "    model = Sequential()\n",
    "# first hidden layer\n",
    "    model.add(Dense(Nnodes, input_dim=Nfeatures, activation='relu', bias_constraint=max_norm(3), kernel_constraint=max_norm(3)))\n",
    "# additional hidden layers    \n",
    "    for n in range(Nlayers-1):  # first hidden layer is previous statement\n",
    "        model.add(Dense(Nnodes, activation='relu', bias_constraint=max_norm(3), kernel_constraint=max_norm(3)))\n",
    "  # output layer\n",
    "    model.add(Dense(10, activation='softmax'))     \n",
    "    model.compile(loss='categorical_crossentropy', \n",
    "                  optimizer='adam', metrics=['accuracy'])    \n",
    "    ytrain_onehot = to_categorical(ytrain)\n",
    "    history = model.fit(Xtrain, ytrain_onehot, \n",
    "                  validation_split= .3, \n",
    "                  epochs = Nepochs, verbose=0)\n",
    "    return model, history\n",
    "\n",
    "Nrestarts = 10\n",
    "PEG_vals_cons = np.zeros(Nrestarts)\n",
    "\n",
    "for restart in range(Nrestarts):\n",
    "\n",
    "    model, history = DNNfit(Xtrain, ytrain)    \n",
    "    # evaluate PEG\n",
    "    Nerr, Ntotal,CM, PEG = DNNevaluate(model,Xtest,ytest) \n",
    "    PEG_vals_cons[restart] = PEG\n",
    "    \n",
    "\n",
    "    Nerr, Ntotal, CM, PE = DNNevaluate(model,Xtest,ytest)\n",
    "    print('\\n' + Language + 'DB Restart=  %2d PEG= %.4f' % (restart,PE))\n",
    "    \n",
    "    \n",
    "fig = plt.figure()\n",
    "ax = fig.add_subplot(111)\n",
    "ax.boxplot(PEG_vals_cons)\n",
    "ax.set_title(Language + ' - Weight Constraint Regularization')\n",
    "ax.set_xlabel('PEG')\n",
    "ax.set_ylabel('PE')\n",
    "plt.show()"
   ]
  },
  {
   "cell_type": "code",
   "execution_count": 37,
   "id": "f6a2b12e",
   "metadata": {},
   "outputs": [
    {
     "name": "stdout",
     "output_type": "stream",
     "text": [
      "0.11047619047619048 [0.11357143 0.11428571 0.11619048] 0.12285714285714286\n"
     ]
    }
   ],
   "source": [
    "# Calculate min, lower box, median, upper box, max\n",
    "print(np.min(PEG_vals_cons),\n",
    "      np.quantile(PEG_vals_cons, [0.25, 0.5, 0.75]),\n",
    "      np.max(PEG_vals_cons))"
   ]
  },
  {
   "cell_type": "markdown",
   "id": "987063fd",
   "metadata": {},
   "source": [
    "## Dropout"
   ]
  },
  {
   "cell_type": "code",
   "execution_count": 14,
   "id": "1e7340a6",
   "metadata": {},
   "outputs": [],
   "source": [
    "from keras.layers import Dropout"
   ]
  },
  {
   "cell_type": "code",
   "execution_count": 38,
   "id": "9272f33d",
   "metadata": {},
   "outputs": [
    {
     "name": "stdout",
     "output_type": "stream",
     "text": [
      "\n",
      "EDB Restart=   0 PEG= 0.1029\n",
      "\n",
      "EDB Restart=   1 PEG= 0.1210\n",
      "\n",
      "EDB Restart=   2 PEG= 0.1048\n",
      "\n",
      "EDB Restart=   3 PEG= 0.1200\n",
      "\n",
      "EDB Restart=   4 PEG= 0.1124\n",
      "\n",
      "EDB Restart=   5 PEG= 0.1267\n",
      "\n",
      "EDB Restart=   6 PEG= 0.1019\n",
      "\n",
      "EDB Restart=   7 PEG= 0.1181\n",
      "\n",
      "EDB Restart=   8 PEG= 0.1114\n",
      "\n",
      "EDB Restart=   9 PEG= 0.1067\n"
     ]
    },
    {
     "data": {
      "image/png": "[encoded data removed]",
      "text/plain": [
       "<Figure size 432x288 with 1 Axes>"
      ]
     },
     "metadata": {
      "needs_background": "light"
     },
     "output_type": "display_data"
    }
   ],
   "source": [
    "def DNNfit(Xtrain, ytrain):  \n",
    "    \n",
    "    Nfeatures = Xtrain.shape[1]   # number of columns minus label\n",
    "    Nlayers = 2 # int(input('Number of Hidden layers= '))\n",
    "    Nnodes = 50 # int(input('Number of nodes/layer= '))\n",
    "    Nepochs = 100\n",
    "    \n",
    "    model = Sequential()\n",
    "# first hidden layer\n",
    "    model.add(Dense(Nnodes, input_dim=Nfeatures, activation='relu'))\n",
    "# additional hidden layers    \n",
    "    for n in range(Nlayers-1):  # first hidden layer is previous statement\n",
    "        model.add(Dense(Nnodes, activation='relu'))\n",
    "        \n",
    "        model.add(Dropout(0.4))\n",
    "\n",
    "  # output layer\n",
    "    model.add(Dense(10, activation='softmax'))     \n",
    "    model.compile(loss='categorical_crossentropy', \n",
    "                  optimizer='adam', metrics=['accuracy'])    \n",
    "    ytrain_onehot = to_categorical(ytrain)\n",
    "    history = model.fit(Xtrain, ytrain_onehot, \n",
    "                  validation_split= .3, \n",
    "                  epochs = Nepochs, verbose=0)\n",
    "    return model, history\n",
    "\n",
    "Nrestarts = 10\n",
    "PEG_vals_drop = np.zeros(Nrestarts)\n",
    "\n",
    "for restart in range(Nrestarts):\n",
    "    model, history = DNNfit(Xtrain, ytrain)\n",
    "    Nerr, Ntotal,CM, PEG = DNNevaluate(model,Xtest,ytest) \n",
    "    PEG_vals_drop[restart] = PEG\n",
    "    Nerr, Ntotal, CM, PE = DNNevaluate(model,Xtest,ytest)\n",
    "    print('\\n' + Language + 'DB Restart=  %2d PEG= %.4f' % (restart,PE))\n",
    "    \n",
    "fig = plt.figure()\n",
    "ax = fig.add_subplot(111)\n",
    "ax.boxplot(PEG_vals_drop)\n",
    "ax.set_title(Language + ' - Dropout Regularization')\n",
    "ax.set_xlabel('PEG')\n",
    "ax.set_ylabel('PE')\n",
    "plt.show()    \n"
   ]
  },
  {
   "cell_type": "code",
   "execution_count": 39,
   "id": "ce191512",
   "metadata": {},
   "outputs": [
    {
     "name": "stdout",
     "output_type": "stream",
     "text": [
      "0.1019047619047619 [0.1052381  0.11190476 0.11952381] 0.12666666666666668\n"
     ]
    }
   ],
   "source": [
    "# Calculate min, lower box, median, upper box, max\n",
    "print(np.min(PEG_vals_drop),\n",
    "      np.quantile(PEG_vals_drop, [0.25, 0.5, 0.75]),\n",
    "      np.max(PEG_vals_drop))"
   ]
  },
  {
   "cell_type": "markdown",
   "id": "2294f9e3",
   "metadata": {},
   "source": [
    "## Adding noise"
   ]
  },
  {
   "cell_type": "code",
   "execution_count": 16,
   "id": "f492459e",
   "metadata": {},
   "outputs": [],
   "source": [
    "from keras.layers import GaussianNoise"
   ]
  },
  {
   "cell_type": "code",
   "execution_count": 40,
   "id": "9ad7c87a",
   "metadata": {},
   "outputs": [
    {
     "name": "stdout",
     "output_type": "stream",
     "text": [
      "\n",
      "EDB Restart=   0 PEG= 0.1086\n",
      "\n",
      "EDB Restart=   1 PEG= 0.1181\n",
      "\n",
      "EDB Restart=   2 PEG= 0.1133\n",
      "\n",
      "EDB Restart=   3 PEG= 0.1114\n",
      "\n",
      "EDB Restart=   4 PEG= 0.1152\n",
      "\n",
      "EDB Restart=   5 PEG= 0.1152\n",
      "\n",
      "EDB Restart=   6 PEG= 0.1162\n",
      "\n",
      "EDB Restart=   7 PEG= 0.1038\n",
      "\n",
      "EDB Restart=   8 PEG= 0.1105\n",
      "\n",
      "EDB Restart=   9 PEG= 0.1095\n"
     ]
    },
    {
     "data": {
      "image/png": "[encoded data removed]",
      "text/plain": [
       "<Figure size 432x288 with 1 Axes>"
      ]
     },
     "metadata": {
      "needs_background": "light"
     },
     "output_type": "display_data"
    }
   ],
   "source": [
    "def DNNfit(Xtrain, ytrain):  \n",
    "    \n",
    "    Nfeatures = Xtrain.shape[1]   # number of columns minus label\n",
    "    Nlayers = 2 # int(input('Number of Hidden layers= '))\n",
    "    Nnodes = 50 # int(input('Number of nodes/layer= '))\n",
    "    Nepochs = 100\n",
    "    \n",
    "    model = Sequential()\n",
    "    model.add(GaussianNoise(0.01, input_shape=(784,)))\n",
    "    model.add(Dense(Nnodes, input_dim=Nfeatures, activation='relu'))\n",
    "# additional hidden layers    \n",
    "    for n in range(Nlayers-1):  # first hidden layer is previous statement\n",
    "        model.add(Dense(Nnodes, activation='relu'))\n",
    "  # output layer\n",
    "    model.add(Dense(10, activation='softmax'))     \n",
    "    model.compile(loss='categorical_crossentropy', \n",
    "                  optimizer='adam', metrics=['accuracy'])    \n",
    "    ytrain_onehot = to_categorical(ytrain)\n",
    "    history = model.fit(Xtrain, ytrain_onehot, \n",
    "                  validation_split= .3, \n",
    "                  epochs = Nepochs, verbose=0)\n",
    "    return model, history\n",
    "\n",
    "Nrestarts = 10\n",
    "PEG_vals_add = np.zeros(Nrestarts)\n",
    "\n",
    "for restart in range(Nrestarts):\n",
    "    model, history = DNNfit(Xtrain, ytrain)\n",
    "    Nerr, Ntotal,CM, PEG = DNNevaluate(model,Xtest,ytest) \n",
    "    PEG_vals_add[restart] = PEG\n",
    "    Nerr, Ntotal, CM, PE = DNNevaluate(model,Xtest,ytest)\n",
    "    print('\\n' + Language + 'DB Restart=  %2d PEG= %.4f' % (restart,PE))\n",
    "    \n",
    "    \n",
    "fig = plt.figure()\n",
    "ax = fig.add_subplot(111)\n",
    "ax.boxplot(PEG_vals_add)\n",
    "ax.set_title(Language + ' - Input Noise Regularization')\n",
    "ax.set_xlabel('PEG')\n",
    "ax.set_ylabel('PE')\n",
    "plt.show()"
   ]
  },
  {
   "cell_type": "code",
   "execution_count": 41,
   "id": "09706134",
   "metadata": {},
   "outputs": [
    {
     "name": "stdout",
     "output_type": "stream",
     "text": [
      "0.10380952380952381 [0.1097619  0.11238095 0.1152381 ] 0.1180952380952381\n"
     ]
    }
   ],
   "source": [
    "# Calculate min, lower box, median, upper box, max\n",
    "print(np.min(PEG_vals_add),\n",
    "      np.quantile(PEG_vals_add, [0.25, 0.5, 0.75]),\n",
    "      np.max(PEG_vals_add))"
   ]
  },
  {
   "cell_type": "markdown",
   "id": "d5b8124c",
   "metadata": {},
   "source": [
    "## Early stopping"
   ]
  },
  {
   "cell_type": "code",
   "execution_count": 18,
   "id": "edab1895",
   "metadata": {},
   "outputs": [],
   "source": [
    "from keras.callbacks import EarlyStopping"
   ]
  },
  {
   "cell_type": "code",
   "execution_count": 42,
   "id": "2e20ed3d",
   "metadata": {},
   "outputs": [
    {
     "name": "stdout",
     "output_type": "stream",
     "text": [
      "Epoch 00004: early stopping\n",
      "\n",
      "EDB Restart=   0 PEG= 0.1067\n",
      "Epoch 00002: early stopping\n",
      "\n",
      "EDB Restart=   1 PEG= 0.1095\n",
      "Epoch 00006: early stopping\n",
      "\n",
      "EDB Restart=   2 PEG= 0.1095\n",
      "Epoch 00004: early stopping\n",
      "\n",
      "EDB Restart=   3 PEG= 0.1143\n",
      "Epoch 00002: early stopping\n",
      "\n",
      "EDB Restart=   4 PEG= 0.1267\n",
      "Epoch 00002: early stopping\n",
      "\n",
      "EDB Restart=   5 PEG= 0.1076\n",
      "Epoch 00005: early stopping\n",
      "\n",
      "EDB Restart=   6 PEG= 0.1152\n",
      "Epoch 00002: early stopping\n",
      "\n",
      "EDB Restart=   7 PEG= 0.1105\n",
      "Epoch 00002: early stopping\n",
      "\n",
      "EDB Restart=   8 PEG= 0.1152\n",
      "Epoch 00005: early stopping\n",
      "\n",
      "EDB Restart=   9 PEG= 0.1143\n"
     ]
    },
    {
     "data": {
      "image/png": "[encoded data removed]",
      "text/plain": [
       "<Figure size 432x288 with 1 Axes>"
      ]
     },
     "metadata": {
      "needs_background": "light"
     },
     "output_type": "display_data"
    }
   ],
   "source": [
    "def DNNfit(Xtrain, ytrain):  \n",
    "    \n",
    "    Nfeatures = Xtrain.shape[1]   # number of columns minus label\n",
    "    Nlayers = 2 # int(input('Number of Hidden layers= '))\n",
    "    Nnodes = 50 # int(input('Number of nodes/layer= '))\n",
    "    Nepochs = 100\n",
    "    model = Sequential()\n",
    "    model.add(Dense(Nnodes, input_dim=Nfeatures, activation='relu'))\n",
    "    for n in range(Nlayers-1):  # first hidden layer is previous statement\n",
    "        model.add(Dense(Nnodes, activation='relu'))\n",
    "  # output layer\n",
    "    model.add(Dense(10, activation='softmax'))     \n",
    "    model.compile(loss='categorical_crossentropy', \n",
    "                  optimizer='adam', metrics=['accuracy'])    \n",
    "    ytrain_onehot = to_categorical(ytrain)\n",
    "    model.fit(Xtrain, ytrain_onehot,    # initially fit without ES\n",
    "                  validation_split= .3, \n",
    "                  epochs = 50,\n",
    "                  verbose=0)\n",
    "    \n",
    "  # simple early stopping\n",
    "    es = EarlyStopping(monitor='val_loss', mode='min', verbose=1)\n",
    "    \n",
    "    history = model.fit(Xtrain, ytrain_onehot, \n",
    "                  validation_split= .3, \n",
    "                  epochs = 10*Nepochs,\n",
    "                  callbacks = [es],\n",
    "                  verbose=0)\n",
    "    return model, history\n",
    "\n",
    "Nrestarts = 10\n",
    "PEG_vals_stop = np.zeros(Nrestarts)\n",
    "\n",
    "for restart in range(Nrestarts):\n",
    "\n",
    "    model, history = DNNfit(Xtrain, ytrain)\n",
    "    Nerr, Ntotal,CM, PEG = DNNevaluate(model,Xtest,ytest) \n",
    "    PEG_vals_stop[restart] = PEG\n",
    "    Nerr, Ntotal, CM, PE = DNNevaluate(model,Xtest,ytest)\n",
    "    print('\\n' + Language + 'DB Restart=  %2d PEG= %.4f' % (restart,PE))\n",
    "    \n",
    "    \n",
    "fig = plt.figure()\n",
    "ax = fig.add_subplot(111)\n",
    "ax.boxplot(PEG_vals_stop)\n",
    "ax.set_title(Language + ' - Early Stopping Regularization')\n",
    "ax.set_xlabel('PEG')\n",
    "ax.set_ylabel('PE')\n",
    "plt.show()"
   ]
  },
  {
   "cell_type": "code",
   "execution_count": 43,
   "id": "8a33304a",
   "metadata": {},
   "outputs": [
    {
     "name": "stdout",
     "output_type": "stream",
     "text": [
      "0.10666666666666667 [0.10952381 0.11238095 0.115     ] 0.12666666666666668\n"
     ]
    }
   ],
   "source": [
    "# Calculate min, lower box, median, upper box, max\n",
    "print(np.min(PEG_vals_stop),\n",
    "      np.quantile(PEG_vals_stop, [0.25, 0.5, 0.75]),\n",
    "      np.max(PEG_vals_stop))"
   ]
  },
  {
   "cell_type": "markdown",
   "id": "a8ce3e26",
   "metadata": {},
   "source": [
    "**Table 8.2: Regularization results for English spoken digits.**"
   ]
  },
  {
   "cell_type": "markdown",
   "id": "fc996f26",
   "metadata": {},
   "source": [
    "|                 | Min PEG | Lower Box PEG | Median PEG | Upper Box PEG | Max PEG\n",
    "|----             | -----   | ---           | -----      |    ----       | ---    \n",
    "|No Reg           |0.1057   |0.1126         |0.1147      | 0.1169        |0.1238\n",
    "|Weight Size      |0.1142   |0.1171         |0.1209      | 0.1330        |0.14\n",
    "|Train activity   |0.0971   |0.1002         |0.1038      |   0.1095      |0.1152\n",
    "|Weight constraint|0.1104   |0.1135         |0.1142      | 0.1161        |0.1228\n",
    "|Dropout          |0.1019   |0.1052         |0.1119      | 0.1195        |0.1266\n",
    "|Adding noise     |0.1038   |0.1097         |0.1123      | 0.1152        |0.1180\n",
    "|Early stopping   |0.1066   |0.1095         |0.1123      | 0.115         |0.1266"
   ]
  },
  {
   "cell_type": "markdown",
   "id": "a4e15530",
   "metadata": {},
   "source": [
    "**Import dataset of Chinese digits**"
   ]
  },
  {
   "cell_type": "code",
   "execution_count": 44,
   "id": "a765cc2e",
   "metadata": {},
   "outputs": [
    {
     "name": "stdout",
     "output_type": "stream",
     "text": [
      "\n",
      "DNN_CDB_Spectrogram\n",
      "Enter Chinese (C) or English (E)  C\n",
      "dataset shape=  (2100, 785)\n"
     ]
    }
   ],
   "source": [
    "print('\\nDNN_CDB_Spectrogram')\n",
    "Language = input('Enter Chinese (C) or English (E)  ')\n",
    "filename = Language + 'DB.csv'\n",
    "dataset = np.loadtxt(filename, delimiter=',',dtype=float)\n",
    "np.random.shuffle(dataset)\n",
    "print('dataset shape= ',dataset.shape)\n",
    "X = dataset[:,1:785]\n",
    "y = dataset[:,0]\n",
    "\n",
    "# split into train and test sets\n",
    "rows = y.shape[0]\n",
    "n_train = int(.5*rows)  # 50% of data into training set  25% into validation set\n",
    "Xtrain, Xtest = X[:n_train, :], X[n_train:, :]\n",
    "ytrain, ytest = y[:n_train], y[n_train:]"
   ]
  },
  {
   "cell_type": "markdown",
   "id": "935c2bb4",
   "metadata": {},
   "source": [
    "## No Regularization – Chinese digits"
   ]
  },
  {
   "cell_type": "code",
   "execution_count": 45,
   "id": "8e4fd565",
   "metadata": {},
   "outputs": [
    {
     "name": "stdout",
     "output_type": "stream",
     "text": [
      "\n",
      "CDB Restart=   0 PEG= 0.1695\n",
      "\n",
      "CDB Restart=   1 PEG= 0.1686\n",
      "\n",
      "CDB Restart=   2 PEG= 0.1648\n",
      "\n",
      "CDB Restart=   3 PEG= 0.1505\n",
      "\n",
      "CDB Restart=   4 PEG= 0.1610\n",
      "\n",
      "CDB Restart=   5 PEG= 0.1467\n",
      "\n",
      "CDB Restart=   6 PEG= 0.1524\n",
      "\n",
      "CDB Restart=   7 PEG= 0.1619\n",
      "\n",
      "CDB Restart=   8 PEG= 0.1610\n",
      "\n",
      "CDB Restart=   9 PEG= 0.1486\n"
     ]
    },
    {
     "data": {
      "image/png": "[encoded data removed]",
      "text/plain": [
       "<Figure size 432x288 with 1 Axes>"
      ]
     },
     "metadata": {
      "needs_background": "light"
     },
     "output_type": "display_data"
    }
   ],
   "source": [
    "def DNNfit(Xtrain, ytrain):  \n",
    "    \n",
    "    Nfeatures = Xtrain.shape[1]   # number of columns minus label\n",
    "    Nlayers = 2 # int(input('Number of Hidden layers= '))\n",
    "    Nnodes = 50 # int(input('Number of nodes/layer= '))\n",
    "    Nepochs = 100\n",
    "    \n",
    "    model = Sequential()\n",
    "# first hidden layer\n",
    "    model.add(Dense(Nnodes,  input_dim=Nfeatures, activation='relu'))  # output layer\n",
    "# additional hidden layers    \n",
    "    for n in range(Nlayers-1):  # first hidden layer is previous statement\n",
    "        model.add(Dense(Nnodes, activation='relu'))\n",
    "    model.add(Dense(10, activation='softmax')) \n",
    "    model.compile(loss='categorical_crossentropy', \n",
    "                  optimizer='adam', metrics=['accuracy'])    \n",
    "    ytrain_onehot = to_categorical(ytrain)\n",
    "    history = model.fit(Xtrain, ytrain_onehot, \n",
    "                  validation_split= .3, \n",
    "                  epochs = Nepochs, verbose=0)\n",
    "    return model, history\n",
    " \n",
    "Nrestarts = 10\n",
    "PEG_vals_no = np.zeros(Nrestarts)\n",
    "\n",
    "for restart in range(Nrestarts):\n",
    "\n",
    "    model, history = DNNfit(Xtrain, ytrain)\n",
    "    Nerr, Ntotal,CM, PEG = DNNevaluate(model,Xtest,ytest) \n",
    "    PEG_vals_no[restart] = PEG\n",
    "    \n",
    "\n",
    "    Nerr, Ntotal, CM, PE = DNNevaluate(model,Xtest,ytest)\n",
    "    print('\\n' + Language + 'DB Restart=  %2d PEG= %.4f' % (restart,PE))\n",
    "    \n",
    "    \n",
    "fig = plt.figure()\n",
    "ax = fig.add_subplot(111)\n",
    "ax.boxplot(PEG_vals_no)\n",
    "ax.set_title(Language + ' - No Regularization')\n",
    "ax.set_xlabel('PEG')\n",
    "ax.set_ylabel('PE')\n",
    "plt.show()      "
   ]
  },
  {
   "cell_type": "code",
   "execution_count": 46,
   "id": "26cc8938",
   "metadata": {},
   "outputs": [
    {
     "name": "stdout",
     "output_type": "stream",
     "text": [
      "0.14666666666666667 [0.15095238 0.16095238 0.16404762] 0.16952380952380952\n"
     ]
    }
   ],
   "source": [
    "# Calculate min, lower box, median, upper box, max\n",
    "print(np.min(PEG_vals_no),\n",
    "      np.quantile(PEG_vals_no, [0.25, 0.5, 0.75]),\n",
    "      np.max(PEG_vals_no))"
   ]
  },
  {
   "cell_type": "markdown",
   "id": "4b67485d",
   "metadata": {},
   "source": [
    "## Weight Size Regularization – Chinese Digits"
   ]
  },
  {
   "cell_type": "code",
   "execution_count": 47,
   "id": "455033de",
   "metadata": {},
   "outputs": [
    {
     "name": "stdout",
     "output_type": "stream",
     "text": [
      "\n",
      "CDB Restart=   0 PEG= 0.2143\n",
      "\n",
      "CDB Restart=   1 PEG= 0.1705\n",
      "\n",
      "CDB Restart=   2 PEG= 0.1733\n",
      "\n",
      "CDB Restart=   3 PEG= 0.1781\n",
      "\n",
      "CDB Restart=   4 PEG= 0.1724\n",
      "\n",
      "CDB Restart=   5 PEG= 0.1752\n",
      "\n",
      "CDB Restart=   6 PEG= 0.1676\n",
      "\n",
      "CDB Restart=   7 PEG= 0.1638\n",
      "\n",
      "CDB Restart=   8 PEG= 0.1829\n",
      "\n",
      "CDB Restart=   9 PEG= 0.1657\n"
     ]
    },
    {
     "data": {
      "image/png": "[encoded data removed]",
      "text/plain": [
       "<Figure size 432x288 with 1 Axes>"
      ]
     },
     "metadata": {
      "needs_background": "light"
     },
     "output_type": "display_data"
    }
   ],
   "source": [
    "def DNNfit(Xtrain, ytrain):  \n",
    "    \n",
    "    Nfeatures = Xtrain.shape[1]   # number of columns minus label\n",
    "    Nlayers = 2 # int(input('Number of Hidden layers= '))\n",
    "    Nnodes = 50 # int(input('Number of nodes/layer= '))\n",
    "    Nepochs = 100\n",
    "    \n",
    "    model = Sequential()\n",
    "# first hidden layer\n",
    "    model.add(Dense(Nnodes,  input_dim=Nfeatures, activation='relu', kernel_regularizer=l2(0.01), bias_regularizer=l2(0.01)))  # output layer\n",
    "# additional hidden layers    \n",
    "    for n in range(Nlayers-1):  # first hidden layer is previous statement\n",
    "        model.add(Dense(Nnodes, kernel_regularizer=l2(0.01), bias_regularizer=l2(0.01)))  # output layer\n",
    "    model.add(Dense(10, activation='softmax'))     \n",
    "    model.compile(loss='categorical_crossentropy', \n",
    "                  optimizer='adam', metrics=['accuracy'])    \n",
    "    ytrain_onehot = to_categorical(ytrain)\n",
    "    history = model.fit(Xtrain, ytrain_onehot, \n",
    "                  validation_split= .3, \n",
    "                  epochs = Nepochs, verbose=0)\n",
    "    return model, history\n",
    " \n",
    "Nrestarts = 10\n",
    "PEG_vals_size = np.zeros(Nrestarts)\n",
    "\n",
    "for restart in range(Nrestarts):\n",
    "\n",
    "    model, history = DNNfit(Xtrain, ytrain)\n",
    "    \n",
    "    # evaluate PEG\n",
    "    Nerr, Ntotal,CM, PEG = DNNevaluate(model,Xtest,ytest) \n",
    "    PEG_vals_size[restart] = PEG\n",
    "    \n",
    "\n",
    "    Nerr, Ntotal, CM, PE = DNNevaluate(model,Xtest,ytest)\n",
    "    print('\\n' + Language + 'DB Restart=  %2d PEG= %.4f' % (restart,PE))\n",
    "    \n",
    "    \n",
    "fig = plt.figure()\n",
    "ax = fig.add_subplot(111)\n",
    "ax.boxplot(PEG_vals_size)\n",
    "ax.set_title(Language + ' - Weight Size Regularization')\n",
    "ax.set_xlabel('PEG')\n",
    "ax.set_ylabel('PE')\n",
    "plt.show()"
   ]
  },
  {
   "cell_type": "code",
   "execution_count": 48,
   "id": "0839093a",
   "metadata": {},
   "outputs": [
    {
     "name": "stdout",
     "output_type": "stream",
     "text": [
      "0.16380952380952382 [0.16833333 0.17285714 0.17738095] 0.21428571428571427\n"
     ]
    }
   ],
   "source": [
    "# Calculate min, lower box, median, upper box, max\n",
    "print(np.min(PEG_vals_size),\n",
    "      np.quantile(PEG_vals_size, [0.25, 0.5, 0.75]),\n",
    "      np.max(PEG_vals_size))"
   ]
  },
  {
   "cell_type": "markdown",
   "id": "78dcf7f3",
   "metadata": {},
   "source": [
    "## Activity Regularization – Chinese Digits"
   ]
  },
  {
   "cell_type": "code",
   "execution_count": 49,
   "id": "fe60e898",
   "metadata": {},
   "outputs": [
    {
     "name": "stdout",
     "output_type": "stream",
     "text": [
      "\n",
      "CDB Restart=   0 PEG= 0.1648\n",
      "\n",
      "CDB Restart=   1 PEG= 0.1562\n",
      "\n",
      "CDB Restart=   2 PEG= 0.1629\n",
      "\n",
      "CDB Restart=   3 PEG= 0.1467\n",
      "\n",
      "CDB Restart=   4 PEG= 0.1590\n",
      "\n",
      "CDB Restart=   5 PEG= 0.1524\n",
      "\n",
      "CDB Restart=   6 PEG= 0.1590\n",
      "\n",
      "CDB Restart=   7 PEG= 0.1600\n",
      "\n",
      "CDB Restart=   8 PEG= 0.1514\n",
      "\n",
      "CDB Restart=   9 PEG= 0.1657\n"
     ]
    },
    {
     "data": {
      "image/png": "[encoded data removed]",
      "text/plain": [
       "<Figure size 432x288 with 1 Axes>"
      ]
     },
     "metadata": {
      "needs_background": "light"
     },
     "output_type": "display_data"
    }
   ],
   "source": [
    "def DNNfit(Xtrain, ytrain):  \n",
    "    \n",
    "    Nfeatures = Xtrain.shape[1]   # number of columns minus label\n",
    "    Nlayers = 2 # int(input('Number of Hidden layers= '))\n",
    "    Nnodes = 50 # int(input('Number of nodes/layer= '))\n",
    "    Nepochs = 100\n",
    "    \n",
    "    model = Sequential()\n",
    "# first hidden layer\n",
    "    model.add(Dense(Nnodes, input_dim=Nfeatures, activation='relu', activity_regularizer=l1(0.001)))\n",
    "# additional hidden layers    \n",
    "    for n in range(Nlayers-1):  # first hidden layer is previous statement\n",
    "        model.add(Dense(Nnodes, activation='relu', activity_regularizer=l1(0.001)))\n",
    "  # output layer\n",
    "    model.add(Dense(10, activation='softmax'))     \n",
    "    model.compile(loss='categorical_crossentropy', \n",
    "                  optimizer='adam', metrics=['accuracy'])    \n",
    "    ytrain_onehot = to_categorical(ytrain)\n",
    "    history = model.fit(Xtrain, ytrain_onehot, \n",
    "                  validation_split= .3, \n",
    "                  epochs = Nepochs, verbose=0)\n",
    "    return model, history\n",
    "\n",
    "Nrestarts = 10\n",
    "PEG_vals_act = np.zeros(Nrestarts)\n",
    "\n",
    "for restart in range(Nrestarts):\n",
    "\n",
    "    model, history = DNNfit(Xtrain, ytrain)\n",
    " \n",
    "    # evaluate PEG\n",
    "    Nerr, Ntotal,CM, PEG = DNNevaluate(model,Xtest,ytest) \n",
    "    PEG_vals_act[restart] = PEG\n",
    "    \n",
    "\n",
    "    Nerr, Ntotal, CM, PE = DNNevaluate(model,Xtest,ytest)\n",
    "    print('\\n' + Language + 'DB Restart=  %2d PEG= %.4f' % (restart,PE))\n",
    "    \n",
    "fig = plt.figure()\n",
    "ax = fig.add_subplot(111)\n",
    "ax.boxplot(PEG_vals_act)\n",
    "ax.set_title(Language + ' - Activity Regularization')\n",
    "ax.set_xlabel('PEG')\n",
    "ax.set_ylabel('PE')\n",
    "plt.show()"
   ]
  },
  {
   "cell_type": "code",
   "execution_count": 50,
   "id": "b9314ac7",
   "metadata": {},
   "outputs": [
    {
     "name": "stdout",
     "output_type": "stream",
     "text": [
      "0.14666666666666667 [0.15333333 0.15904762 0.16214286] 0.1657142857142857\n"
     ]
    }
   ],
   "source": [
    "# Calculate min, lower box, median, upper box, max\n",
    "print(np.min(PEG_vals_act),\n",
    "      np.quantile(PEG_vals_act, [0.25, 0.5, 0.75]),\n",
    "      np.max(PEG_vals_act))"
   ]
  },
  {
   "cell_type": "markdown",
   "id": "f3f10932",
   "metadata": {},
   "source": [
    "## Weight Constraint Regularization – Chinese Digits"
   ]
  },
  {
   "cell_type": "code",
   "execution_count": 51,
   "id": "90a1878f",
   "metadata": {},
   "outputs": [
    {
     "name": "stdout",
     "output_type": "stream",
     "text": [
      "\n",
      "CDB Restart=   0 PEG= 0.1629\n",
      "\n",
      "CDB Restart=   1 PEG= 0.1524\n",
      "\n",
      "CDB Restart=   2 PEG= 0.1676\n",
      "\n",
      "CDB Restart=   3 PEG= 0.1581\n",
      "\n",
      "CDB Restart=   4 PEG= 0.1581\n",
      "\n",
      "CDB Restart=   5 PEG= 0.1667\n",
      "\n",
      "CDB Restart=   6 PEG= 0.1619\n",
      "\n",
      "CDB Restart=   7 PEG= 0.1476\n",
      "\n",
      "CDB Restart=   8 PEG= 0.1581\n",
      "\n",
      "CDB Restart=   9 PEG= 0.1533\n"
     ]
    },
    {
     "data": {
      "image/png": "[encoded data removed]",
      "text/plain": [
       "<Figure size 432x288 with 1 Axes>"
      ]
     },
     "metadata": {
      "needs_background": "light"
     },
     "output_type": "display_data"
    }
   ],
   "source": [
    "def DNNfit(Xtrain, ytrain):  \n",
    "    \n",
    "    Nfeatures = Xtrain.shape[1]   # number of columns minus label\n",
    "    Nlayers = 2 # int(input('Number of Hidden layers= '))\n",
    "    Nnodes = 50 # int(input('Number of nodes/layer= '))\n",
    "    Nepochs = 100\n",
    "    \n",
    "    model = Sequential()\n",
    "# first hidden layer\n",
    "    model.add(Dense(Nnodes, input_dim=Nfeatures, activation='relu', bias_constraint=max_norm(3), kernel_constraint=max_norm(3)))\n",
    "# additional hidden layers    \n",
    "    for n in range(Nlayers-1):  # first hidden layer is previous statement\n",
    "        model.add(Dense(Nnodes, activation='relu', bias_constraint=max_norm(3), kernel_constraint=max_norm(3)))\n",
    "  # output layer\n",
    "    model.add(Dense(10, activation='softmax'))     \n",
    "    model.compile(loss='categorical_crossentropy', \n",
    "                  optimizer='adam', metrics=['accuracy'])    \n",
    "    ytrain_onehot = to_categorical(ytrain)\n",
    "    history = model.fit(Xtrain, ytrain_onehot, \n",
    "                  validation_split= .3, \n",
    "                  epochs = Nepochs, verbose=0)\n",
    "    return model, history\n",
    "\n",
    "Nrestarts = 10\n",
    "PEG_vals_cons = np.zeros(Nrestarts)\n",
    "\n",
    "for restart in range(Nrestarts):\n",
    "\n",
    "    model, history = DNNfit(Xtrain, ytrain)    \n",
    "    # evaluate PEG\n",
    "    Nerr, Ntotal,CM, PEG = DNNevaluate(model,Xtest,ytest) \n",
    "    PEG_vals_cons[restart] = PEG\n",
    "    \n",
    "\n",
    "    Nerr, Ntotal, CM, PE = DNNevaluate(model,Xtest,ytest)\n",
    "    print('\\n' + Language + 'DB Restart=  %2d PEG= %.4f' % (restart,PE))\n",
    "    \n",
    "    \n",
    "fig = plt.figure()\n",
    "ax = fig.add_subplot(111)\n",
    "ax.boxplot(PEG_vals_cons)\n",
    "ax.set_title(Language + ' - Weight Constraint Regularization')\n",
    "ax.set_xlabel('PEG')\n",
    "ax.set_ylabel('PE')\n",
    "plt.show()"
   ]
  },
  {
   "cell_type": "code",
   "execution_count": 52,
   "id": "3e622c1b",
   "metadata": {},
   "outputs": [
    {
     "name": "stdout",
     "output_type": "stream",
     "text": [
      "0.14761904761904762 [0.15452381 0.15809524 0.16261905] 0.1676190476190476\n"
     ]
    }
   ],
   "source": [
    "# Calculate min, lower box, median, upper box, max\n",
    "print(np.min(PEG_vals_cons),\n",
    "      np.quantile(PEG_vals_cons, [0.25, 0.5, 0.75]),\n",
    "      np.max(PEG_vals_cons))"
   ]
  },
  {
   "cell_type": "markdown",
   "id": "62a79883",
   "metadata": {},
   "source": [
    "## Dropout Regularization – Chinese Digits"
   ]
  },
  {
   "cell_type": "code",
   "execution_count": 53,
   "id": "e3401d07",
   "metadata": {},
   "outputs": [
    {
     "name": "stdout",
     "output_type": "stream",
     "text": [
      "\n",
      "CDB Restart=   0 PEG= 0.1552\n",
      "\n",
      "CDB Restart=   1 PEG= 0.1638\n",
      "\n",
      "CDB Restart=   2 PEG= 0.1486\n",
      "\n",
      "CDB Restart=   3 PEG= 0.1571\n",
      "\n",
      "CDB Restart=   4 PEG= 0.1571\n",
      "\n",
      "CDB Restart=   5 PEG= 0.1600\n",
      "\n",
      "CDB Restart=   6 PEG= 0.1743\n",
      "\n",
      "CDB Restart=   7 PEG= 0.1514\n",
      "\n",
      "CDB Restart=   8 PEG= 0.1571\n",
      "\n",
      "CDB Restart=   9 PEG= 0.1581\n"
     ]
    },
    {
     "data": {
      "image/png": "[encoded data removed]",
      "text/plain": [
       "<Figure size 432x288 with 1 Axes>"
      ]
     },
     "metadata": {
      "needs_background": "light"
     },
     "output_type": "display_data"
    }
   ],
   "source": [
    "def DNNfit(Xtrain, ytrain):  \n",
    "    \n",
    "    Nfeatures = Xtrain.shape[1]   # number of columns minus label\n",
    "    Nlayers = 2 # int(input('Number of Hidden layers= '))\n",
    "    Nnodes = 50 # int(input('Number of nodes/layer= '))\n",
    "    Nepochs = 100\n",
    "    \n",
    "    model = Sequential()\n",
    "# first hidden layer\n",
    "    model.add(Dense(Nnodes, input_dim=Nfeatures, activation='relu'))\n",
    "# additional hidden layers    \n",
    "    for n in range(Nlayers-1):  # first hidden layer is previous statement\n",
    "        model.add(Dense(Nnodes, activation='relu'))\n",
    "        \n",
    "        model.add(Dropout(0.4))\n",
    "\n",
    "  # output layer\n",
    "    model.add(Dense(10, activation='softmax'))     \n",
    "    model.compile(loss='categorical_crossentropy', \n",
    "                  optimizer='adam', metrics=['accuracy'])    \n",
    "    ytrain_onehot = to_categorical(ytrain)\n",
    "    history = model.fit(Xtrain, ytrain_onehot, \n",
    "                  validation_split= .3, \n",
    "                  epochs = Nepochs, verbose=0)\n",
    "    return model, history\n",
    "\n",
    "Nrestarts = 10\n",
    "PEG_vals_drop = np.zeros(Nrestarts)\n",
    "\n",
    "for restart in range(Nrestarts):\n",
    "    model, history = DNNfit(Xtrain, ytrain)\n",
    "    Nerr, Ntotal,CM, PEG = DNNevaluate(model,Xtest,ytest) \n",
    "    PEG_vals_drop[restart] = PEG\n",
    "    Nerr, Ntotal, CM, PE = DNNevaluate(model,Xtest,ytest)\n",
    "    print('\\n' + Language + 'DB Restart=  %2d PEG= %.4f' % (restart,PE))\n",
    "    \n",
    "fig = plt.figure()\n",
    "ax = fig.add_subplot(111)\n",
    "ax.boxplot(PEG_vals_drop)\n",
    "ax.set_title(Language + ' - Dropout Regularization')\n",
    "ax.set_xlabel('PEG')\n",
    "ax.set_ylabel('PE')\n",
    "plt.show()"
   ]
  },
  {
   "cell_type": "code",
   "execution_count": 54,
   "id": "6a2c691a",
   "metadata": {},
   "outputs": [
    {
     "name": "stdout",
     "output_type": "stream",
     "text": [
      "0.14857142857142858 [0.15571429 0.15714286 0.15952381] 0.1742857142857143\n"
     ]
    }
   ],
   "source": [
    "# Calculate min, lower box, median, upper box, max\n",
    "print(np.min(PEG_vals_drop),\n",
    "      np.quantile(PEG_vals_drop, [0.25, 0.5, 0.75]),\n",
    "      np.max(PEG_vals_drop))"
   ]
  },
  {
   "cell_type": "markdown",
   "id": "baaef3eb",
   "metadata": {},
   "source": [
    "## Input Noise Regularization – Chinese Digits"
   ]
  },
  {
   "cell_type": "code",
   "execution_count": 55,
   "id": "e8156282",
   "metadata": {},
   "outputs": [
    {
     "name": "stdout",
     "output_type": "stream",
     "text": [
      "\n",
      "CDB Restart=   0 PEG= 0.1610\n",
      "\n",
      "CDB Restart=   1 PEG= 0.1524\n",
      "\n",
      "CDB Restart=   2 PEG= 0.1667\n",
      "\n",
      "CDB Restart=   3 PEG= 0.1714\n",
      "\n",
      "CDB Restart=   4 PEG= 0.1600\n",
      "\n",
      "CDB Restart=   5 PEG= 0.1619\n",
      "\n",
      "CDB Restart=   6 PEG= 0.1562\n",
      "\n",
      "CDB Restart=   7 PEG= 0.1457\n",
      "\n",
      "CDB Restart=   8 PEG= 0.1705\n",
      "\n",
      "CDB Restart=   9 PEG= 0.1524\n"
     ]
    },
    {
     "data": {
      "image/png": "[encoded data removed]",
      "text/plain": [
       "<Figure size 432x288 with 1 Axes>"
      ]
     },
     "metadata": {
      "needs_background": "light"
     },
     "output_type": "display_data"
    }
   ],
   "source": [
    "def DNNfit(Xtrain, ytrain):  \n",
    "    \n",
    "    Nfeatures = Xtrain.shape[1]   # number of columns minus label\n",
    "    Nlayers = 2 # int(input('Number of Hidden layers= '))\n",
    "    Nnodes = 50 # int(input('Number of nodes/layer= '))\n",
    "    Nepochs = 100\n",
    "    \n",
    "    model = Sequential()\n",
    "    model.add(GaussianNoise(0.01, input_shape=(784,)))\n",
    "    model.add(Dense(Nnodes, input_dim=Nfeatures, activation='relu'))\n",
    "# additional hidden layers    \n",
    "    for n in range(Nlayers-1):  # first hidden layer is previous statement\n",
    "        model.add(Dense(Nnodes, activation='relu'))\n",
    "  # output layer\n",
    "    model.add(Dense(10, activation='softmax'))     \n",
    "    model.compile(loss='categorical_crossentropy', \n",
    "                  optimizer='adam', metrics=['accuracy'])    \n",
    "    ytrain_onehot = to_categorical(ytrain)\n",
    "    history = model.fit(Xtrain, ytrain_onehot, \n",
    "                  validation_split= .3, \n",
    "                  epochs = Nepochs, verbose=0)\n",
    "    return model, history\n",
    "\n",
    "Nrestarts = 10\n",
    "PEG_vals_add = np.zeros(Nrestarts)\n",
    "\n",
    "for restart in range(Nrestarts):\n",
    "    model, history = DNNfit(Xtrain, ytrain)\n",
    "    Nerr, Ntotal,CM, PEG = DNNevaluate(model,Xtest,ytest) \n",
    "    PEG_vals_add[restart] = PEG\n",
    "    Nerr, Ntotal, CM, PE = DNNevaluate(model,Xtest,ytest)\n",
    "    print('\\n' + Language + 'DB Restart=  %2d PEG= %.4f' % (restart,PE))\n",
    "    \n",
    "    \n",
    "fig = plt.figure()\n",
    "ax = fig.add_subplot(111)\n",
    "ax.boxplot(PEG_vals_add)\n",
    "ax.set_title(Language + ' - Input Noise Regularization')\n",
    "ax.set_xlabel('PEG')\n",
    "ax.set_ylabel('PE')\n",
    "plt.show()"
   ]
  },
  {
   "cell_type": "code",
   "execution_count": 56,
   "id": "73e4614f",
   "metadata": {},
   "outputs": [
    {
     "name": "stdout",
     "output_type": "stream",
     "text": [
      "0.1457142857142857 [0.15333333 0.16047619 0.16547619] 0.17142857142857143\n"
     ]
    }
   ],
   "source": [
    "# Calculate min, lower box, median, upper box, max\n",
    "print(np.min(PEG_vals_add),\n",
    "      np.quantile(PEG_vals_add, [0.25, 0.5, 0.75]),\n",
    "      np.max(PEG_vals_add))"
   ]
  },
  {
   "cell_type": "markdown",
   "id": "7ee42f47",
   "metadata": {},
   "source": [
    "## Early Stopping Regularization"
   ]
  },
  {
   "cell_type": "code",
   "execution_count": 57,
   "id": "6852a1ec",
   "metadata": {},
   "outputs": [
    {
     "name": "stdout",
     "output_type": "stream",
     "text": [
      "Epoch 00002: early stopping\n",
      "\n",
      "CDB Restart=   0 PEG= 0.1771\n",
      "Epoch 00002: early stopping\n",
      "\n",
      "CDB Restart=   1 PEG= 0.1610\n",
      "Epoch 00004: early stopping\n",
      "\n",
      "CDB Restart=   2 PEG= 0.1600\n",
      "Epoch 00003: early stopping\n",
      "\n",
      "CDB Restart=   3 PEG= 0.1571\n",
      "Epoch 00002: early stopping\n",
      "\n",
      "CDB Restart=   4 PEG= 0.1743\n",
      "Epoch 00002: early stopping\n",
      "\n",
      "CDB Restart=   5 PEG= 0.1695\n",
      "Epoch 00003: early stopping\n",
      "\n",
      "CDB Restart=   6 PEG= 0.1752\n",
      "Epoch 00002: early stopping\n",
      "\n",
      "CDB Restart=   7 PEG= 0.1676\n",
      "Epoch 00003: early stopping\n",
      "\n",
      "CDB Restart=   8 PEG= 0.1771\n",
      "Epoch 00002: early stopping\n",
      "\n",
      "CDB Restart=   9 PEG= 0.1714\n"
     ]
    },
    {
     "data": {
      "image/png": "[encoded data removed]",
      "text/plain": [
       "<Figure size 432x288 with 1 Axes>"
      ]
     },
     "metadata": {
      "needs_background": "light"
     },
     "output_type": "display_data"
    }
   ],
   "source": [
    "def DNNfit(Xtrain, ytrain):  \n",
    "    \n",
    "    Nfeatures = Xtrain.shape[1]   # number of columns minus label\n",
    "    Nlayers = 2 # int(input('Number of Hidden layers= '))\n",
    "    Nnodes = 50 # int(input('Number of nodes/layer= '))\n",
    "    Nepochs = 100\n",
    "    model = Sequential()\n",
    "    model.add(Dense(Nnodes, input_dim=Nfeatures, activation='relu'))\n",
    "    for n in range(Nlayers-1):  # first hidden layer is previous statement\n",
    "        model.add(Dense(Nnodes, activation='relu'))\n",
    "  # output layer\n",
    "    model.add(Dense(10, activation='softmax'))     \n",
    "    model.compile(loss='categorical_crossentropy', \n",
    "                  optimizer='adam', metrics=['accuracy'])    \n",
    "    ytrain_onehot = to_categorical(ytrain)\n",
    "    model.fit(Xtrain, ytrain_onehot,    # initially fit without ES\n",
    "                  validation_split= .3, \n",
    "                  epochs = 50,\n",
    "                  verbose=0)\n",
    "    \n",
    "    # simple early stopping\n",
    "    es = EarlyStopping(monitor='val_loss', mode='min', verbose=1)\n",
    "    \n",
    "    history = model.fit(Xtrain, ytrain_onehot, \n",
    "                  validation_split= .3, \n",
    "                  epochs = 10*Nepochs,\n",
    "                  callbacks = [es],\n",
    "                  verbose=0)\n",
    "    return model, history\n",
    "\n",
    "Nrestarts = 10\n",
    "PEG_vals_stop = np.zeros(Nrestarts)\n",
    "\n",
    "for restart in range(Nrestarts):\n",
    "\n",
    "    model, history = DNNfit(Xtrain, ytrain)\n",
    "    Nerr, Ntotal,CM, PEG = DNNevaluate(model,Xtest,ytest) \n",
    "    PEG_vals_stop[restart] = PEG\n",
    "    Nerr, Ntotal, CM, PE = DNNevaluate(model,Xtest,ytest)\n",
    "    print('\\n' + Language + 'DB Restart=  %2d PEG= %.4f' % (restart,PE))\n",
    "    \n",
    "    \n",
    "fig = plt.figure()\n",
    "ax = fig.add_subplot(111)\n",
    "ax.boxplot(PEG_vals_stop)\n",
    "ax.set_title(Language + ' - Early Stopping Regularization')\n",
    "ax.set_xlabel('PEG')\n",
    "ax.set_ylabel('PE')\n",
    "plt.show()"
   ]
  },
  {
   "cell_type": "code",
   "execution_count": 58,
   "id": "d3371f43",
   "metadata": {},
   "outputs": [
    {
     "name": "stdout",
     "output_type": "stream",
     "text": [
      "0.15714285714285714 [0.16261905 0.17047619 0.175     ] 0.17714285714285713\n"
     ]
    }
   ],
   "source": [
    "# Calculate min, lower box, median, upper box, max\n",
    "print(np.min(PEG_vals_stop),\n",
    "      np.quantile(PEG_vals_stop, [0.25, 0.5, 0.75]),\n",
    "      np.max(PEG_vals_stop))"
   ]
  },
  {
   "cell_type": "markdown",
   "id": "4f5d14cc",
   "metadata": {},
   "source": [
    "**Table 8.1: Regularization results for Chinese spoken digits.**"
   ]
  },
  {
   "cell_type": "markdown",
   "id": "4d4f7cee",
   "metadata": {},
   "source": [
    "|                 | Min PEG | Lower Box PEG | Median PEG | Upper Box PEG | Max PEG\n",
    "|----             | -----   | ---           | -----      |    ----       | ---    \n",
    "|No Reg           |0.1466   |0.1509         |0.1609      | 0.1640        |0.1695\n",
    "|Weight Size      |0.1638   |0.1683         |0.1728      | 0.1773        |0.2142\n",
    "|Train activity   |0.1466   |0.1533         |0.1590      | 0.1621        |0.1657\n",
    "|Weight constraint|0.1476   |0.1545         |0.1580      | 0.1626        |0.1676\n",
    "|Dropout          |0.1485   |0.1557         |0.1571      | 0.1595        |0.1742\n",
    "|Adding noise     |0.1457   |0.1533         |0.1604      | 0.1654        |0.1714\n",
    "|Early stopping   |0.1571   |0.1626         |0.1704      | 0.175         |0.1771"
   ]
  },
  {
   "cell_type": "markdown",
   "id": "a56bd9e4",
   "metadata": {},
   "source": [
    "# Lec5 HW4 (advanced). Design the DNN and regularization(s) that reduce the P E G ≤ 0.1 for either Chinese of English spoken digits."
   ]
  },
  {
   "cell_type": "markdown",
   "id": "e2b98ead",
   "metadata": {},
   "source": [
    "**Re-import English Digit Database**"
   ]
  },
  {
   "cell_type": "code",
   "execution_count": 73,
   "id": "d2f99ad7",
   "metadata": {},
   "outputs": [
    {
     "name": "stdout",
     "output_type": "stream",
     "text": [
      "\n",
      "DNN_CDB_Spectrogram\n",
      "Enter Chinese (C) or English (E)  E\n",
      "dataset shape=  (2100, 785)\n"
     ]
    }
   ],
   "source": [
    "print('\\nDNN_CDB_Spectrogram')\n",
    "Language = input('Enter Chinese (C) or English (E)  ')\n",
    "filename = Language + 'DB.csv'\n",
    "dataset = np.loadtxt(filename, delimiter=',',dtype=float)\n",
    "np.random.shuffle(dataset)\n",
    "print('dataset shape= ',dataset.shape)\n",
    "X = dataset[:,1:785]\n",
    "y = dataset[:,0]\n",
    "\n",
    "# split into train and test sets\n",
    "rows = y.shape[0]\n",
    "n_train = int(.5*rows)  # 50% of data into training set  25% into validation set\n",
    "Xtrain, Xtest = X[:n_train, :], X[n_train:, :]\n",
    "ytrain, ytest = y[:n_train], y[n_train:]"
   ]
  },
  {
   "cell_type": "markdown",
   "id": "c4085ddc",
   "metadata": {},
   "source": [
    "## I used combination regularization of activity regularization and dropping out some nodes by randomly 0.1 probability. Lastly, I used early stopping by 80 epoches."
   ]
  },
  {
   "cell_type": "code",
   "execution_count": 111,
   "id": "0eea0704",
   "metadata": {},
   "outputs": [
    {
     "name": "stdout",
     "output_type": "stream",
     "text": [
      "Epoch 00004: early stopping\n",
      "Epoch 00004: early stopping\n",
      "Epoch 00003: early stopping\n",
      "Epoch 00003: early stopping\n",
      "Epoch 00004: early stopping\n",
      "Epoch 00003: early stopping\n",
      "Epoch 00003: early stopping\n",
      "Epoch 00002: early stopping\n",
      "Epoch 00002: early stopping\n",
      "Epoch 00003: early stopping\n",
      "Epoch 00002: early stopping\n",
      "Epoch 00002: early stopping\n",
      "Epoch 00002: early stopping\n",
      "Epoch 00002: early stopping\n",
      "Epoch 00003: early stopping\n",
      "Epoch 00003: early stopping\n",
      "Epoch 00003: early stopping\n",
      "Epoch 00002: early stopping\n",
      "Epoch 00004: early stopping\n",
      "Epoch 00003: early stopping\n"
     ]
    },
    {
     "data": {
      "image/png": "[encoded data removed]",
      "text/plain": [
       "<Figure size 432x288 with 1 Axes>"
      ]
     },
     "metadata": {
      "needs_background": "light"
     },
     "output_type": "display_data"
    },
    {
     "name": "stdout",
     "output_type": "stream",
     "text": [
      "min PEG:  0.09047619047619047 \n",
      " 25%, 50%, 75% PEG: [0.09880952 0.10714286 0.1097619 ] \n",
      " max PEG:  0.11714285714285715\n"
     ]
    }
   ],
   "source": [
    "def DNNfit(Xtrain, ytrain):  \n",
    "    \n",
    "    Nfeatures = Xtrain.shape[1]   # number of columns minus label\n",
    "    Nlayers = 2 # int(input('Number of Hidden layers= '))\n",
    "    Nnodes = 100 # int(input('Number of nodes/layer= '))\n",
    "    Nepochs = 100\n",
    "    \n",
    "    model = Sequential()\n",
    "    # model.add(GaussianNoise(0.01, input_shape=(784,)))\n",
    "    # first hidden layer\n",
    "    model.add(Dense(Nnodes,  input_dim=Nfeatures, activation='relu', activity_regularizer=l1(0.001)))  # output layer\n",
    "    # additional hidden layers    \n",
    "    for n in range(Nlayers-1):  # first hidden layer is previous statement\n",
    "        model.add(Dense(Nnodes, activation='relu', activity_regularizer=l1(0.001)))\n",
    "        model.add(Dropout(0.1))\n",
    "        \n",
    "    model.add(Dense(10, activation='softmax')) \n",
    "    model.compile(loss='categorical_crossentropy', \n",
    "                  optimizer='adam', metrics=['accuracy'])  \n",
    "    \n",
    "    # simple early stopping\n",
    "    # es = EarlyStopping(monitor='val_loss', mode='min', verbose=0)\n",
    "    \n",
    "    ytrain_onehot = to_categorical(ytrain)\n",
    "    model.fit(Xtrain, ytrain_onehot, \n",
    "                  validation_split= .3, \n",
    "                  epochs = 80, verbose=0)\n",
    "    \n",
    "    # simple early stopping\n",
    "    es = EarlyStopping(monitor='val_loss', mode='min', verbose=1)\n",
    "    \n",
    "    history = model.fit(Xtrain, ytrain_onehot, \n",
    "                  validation_split= .3, \n",
    "                  epochs = 10*Nepochs,\n",
    "                  callbacks = [es],\n",
    "                  verbose=0)\n",
    "    \n",
    "    return model, history\n",
    "\n",
    "Nrestarts = 20\n",
    "PEG_vals = np.zeros(Nrestarts)\n",
    "\n",
    "for restart in range(Nrestarts):\n",
    "\n",
    "    model, history = DNNfit(Xtrain, ytrain)\n",
    "    Nerr, Ntotal,CM, PEG = DNNevaluate(model,Xtest,ytest) \n",
    "    PEG_vals[restart] = PEG\n",
    "    \n",
    "\n",
    "    Nerr, Ntotal, CM, PE = DNNevaluate(model,Xtest,ytest)\n",
    "    # print('\\n' + Language + 'DB Restart=  %2d PEG= %.4f' % (restart,PE))\n",
    "    \n",
    "\n",
    "fig = plt.figure()\n",
    "ax = fig.add_subplot(111)\n",
    "ax.boxplot(PEG_vals)\n",
    "ax.set_title(Language + ' - No Regularization')\n",
    "ax.set_xlabel('PEG')\n",
    "ax.set_ylabel('PE')\n",
    "plt.show()\n",
    "\n",
    "# Calculate min, lower box, median, upper box, max\n",
    "print(\"min PEG: \", str(np.min(PEG_vals)), \"\\n\",\n",
    "      \"25%, 50%, 75% PEG:\", str(np.quantile(PEG_vals, [0.25, 0.5, 0.75])), \"\\n\",\n",
    "      \"max PEG: \", np.max(PEG_vals))"
   ]
  },
  {
   "cell_type": "markdown",
   "id": "e15669f2",
   "metadata": {},
   "source": [
    "**From this results, the min PEG = 0.0904 < 0.1, 25% quantile = 0.0988 is less than 0.1, 50% quantile and 75% quantile are very close to 0.1. Statistically I can think that PEG in this case is almost equal to 0.1.**"
   ]
  }
 ],
 "metadata": {
  "kernelspec": {
   "display_name": "Python 3",
   "language": "python",
   "name": "python3"
  },
  "language_info": {
   "codemirror_mode": {
    "name": "ipython",
    "version": 3
   },
   "file_extension": ".py",
   "mimetype": "text/x-python",
   "name": "python",
   "nbconvert_exporter": "python",
   "pygments_lexer": "ipython3",
   "version": "3.8.3"
  }
 },
 "nbformat": 4,
 "nbformat_minor": 5
}
