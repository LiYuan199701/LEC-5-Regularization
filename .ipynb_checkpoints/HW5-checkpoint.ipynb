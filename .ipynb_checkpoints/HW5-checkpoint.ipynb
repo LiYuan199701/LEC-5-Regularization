{
 "cells": [
  {
   "cell_type": "markdown",
   "id": "146e97a8",
   "metadata": {},
   "source": [
    "# Run DNN_DB_Spectrogram.py to classify the English digits in EDB. Copy and paste the CM and PEG value."
   ]
  },
  {
   "cell_type": "code",
   "execution_count": 2,
   "id": "bd3132ac",
   "metadata": {},
   "outputs": [],
   "source": [
    "# Cross Validation Classification Confusion Matrix\n",
    "import numpy as np\n",
    "from keras.models import Sequential\n",
    "from keras.layers import Dense\n",
    "from keras.utils import to_categorical\n",
    "import matplotlib.pyplot as plt "
   ]
  },
  {
   "cell_type": "code",
   "execution_count": 4,
   "id": "c03f5e6c",
   "metadata": {},
   "outputs": [
    {
     "name": "stdout",
     "output_type": "stream",
     "text": [
      "\n",
      "DNN_CDB_Spectrogram\n",
      "Enter Chinese (C) or English (E)  E\n",
      "dataset shape=  (2100, 785)\n",
      "Number of Hidden layers= 2\n",
      "Number of nodes/layer= 16\n"
     ]
    },
    {
     "data": {
      "image/png": "[encoded data removed]",
      "text/plain": [
       "<Figure size 432x288 with 2 Axes>"
      ]
     },
     "metadata": {
      "needs_background": "light"
     },
     "output_type": "display_data"
    },
    {
     "name": "stdout",
     "output_type": "stream",
     "text": [
      "\n",
      "EDB.csv CM=\n",
      " [[100   1   3   0   2   0   2   2   1   0]\n",
      " [  0  91   0   0   1   3   0   2   0   7]\n",
      " [  8   0  79   3   0   2   4   6   2   1]\n",
      " [  0   0   4 105   0   0   4   1   1   0]\n",
      " [  2   7   2   0  98   1   0   0   0   0]\n",
      " [  1   4   1   1   1  75   0   1   0  13]\n",
      " [  1   0   1   2   0   1  94   0   7   4]\n",
      " [  4   0   0   0   0   0   5  83   0   7]\n",
      " [  0   0   5   2   1   0   6   0  79   0]\n",
      " [  1   2   0   1   0   8   1   3   0  90]]\n",
      "\n",
      "EDB.csv Nerr= 156\n",
      "\n",
      "EDB.csv Ntotal= 1050\n",
      "\n",
      "EDB.csv PEG= 0.1486\n"
     ]
    }
   ],
   "source": [
    "print('\\nDNN_CDB_Spectrogram')\n",
    "Language = input('Enter Chinese (C) or English (E)  ')\n",
    "filename = Language + 'DB.csv'\n",
    "dataset = np.loadtxt(filename, delimiter=',',dtype=float)\n",
    "np.random.shuffle(dataset)\n",
    "print('dataset shape= ',dataset.shape)\n",
    "X = dataset[:,1:785]\n",
    "y = dataset[:,0]\n",
    "\n",
    "# split into train and test sets\n",
    "rows = y.shape[0]\n",
    "n_train = int(.5*rows)  # 50% of data into training set  25% into validation set\n",
    "Xtrain, Xtest = X[:n_train, :], X[n_train:, :]\n",
    "ytrain, ytest = y[:n_train], y[n_train:]\n",
    " \n",
    "\n",
    "def DNNfit(Nfeatures, Xtrain, ytrain):  \n",
    "    \n",
    "# Nepochs times Nsamples should be about 1E6  (million!)\n",
    "    Nlayers = int(input('Number of Hidden layers= '))\n",
    "    Nnodes = int(input('Number of nodes/layer= '))\n",
    "      \n",
    "    Nepochs = 100\n",
    "    \n",
    "    model = Sequential()\n",
    "\n",
    "# first hidden layer\n",
    "    model.add(Dense(Nnodes, input_dim=Nfeatures, activation='relu'))\n",
    "\n",
    "# additional hidden layers    \n",
    "    for n in range(Nlayers-1):  # first hidden layer is previous statement\n",
    "        model.add(Dense(Nnodes, activation='relu'))\n",
    "\n",
    "# output layer\n",
    "    model.add(Dense(10, activation='softmax'))     \n",
    "    model.compile(loss='categorical_crossentropy', \n",
    "                  optimizer='adam', metrics=['accuracy'])\n",
    "     \n",
    "    ytrain_onehot = to_categorical(ytrain)\n",
    "    history = model.fit(Xtrain, ytrain_onehot, \n",
    "                  validation_split= .3, \n",
    "                  epochs = Nepochs, verbose=0)\n",
    "    return model, history\n",
    " \n",
    "def DNNevaluate(model,Xtest,ytest):  # computes CM and PE for test set\n",
    "    Ntest = Xtest.shape[0] # number of rows\n",
    "    CM = np.zeros([10,10], dtype = int)\n",
    "    ypred = model.predict(Xtest) # predicts entire set\n",
    "    for i in range(Ntest):\n",
    "        yclass = np.argmax(ypred[i])   \n",
    "        ytrue = int(ytest[i])\n",
    "        CM[ytrue,yclass] += 1\n",
    "\n",
    "    Nerr = sum(sum(CM))-np.trace(CM)\n",
    "    Ntotal = sum(sum(CM))\n",
    "    PE = Nerr/Ntotal\n",
    "    return Nerr, Ntotal,CM, PE\n",
    "\n",
    "\n",
    "Nfeatures = 784\n",
    "model, history = DNNfit(Nfeatures, Xtrain, ytrain)   \n",
    "# plot loss learning curves\n",
    "plt.subplot(211)\n",
    "plt.title(filename + ' Cross-Entropy Loss', pad=-40)\n",
    "plt.plot(history.history['loss'], label='train')\n",
    "plt.plot(history.history['val_loss'], label='val')\n",
    "plt.legend()\n",
    "# plot accuracy learning curves\n",
    "plt.subplot(212)\n",
    "plt.title(filename + 'Accuracy', pad=-40)\n",
    "plt.plot(history.history['accuracy'], label='train')\n",
    "plt.plot(history.history['val_accuracy'], label='val')\n",
    "plt.legend()\n",
    "plt.show()\n",
    "\n",
    "\n",
    "\n",
    "Nerr, Ntotal, CM, PE = DNNevaluate(model,Xtest,ytest)\n",
    "print('\\n' + filename + ' CM=\\n', CM)\n",
    "print('\\n' + filename + ' Nerr= %d' % Nerr)\n",
    "print('\\n' + filename + ' Ntotal= %d' % Ntotal)\n",
    "print('\\n' + filename + ' PEG= %.4f' % PE)"
   ]
  },
  {
   "cell_type": "markdown",
   "id": "1d390b0c",
   "metadata": {},
   "source": [
    "# Modify your name_Lec5 HW1.py by specifying the DNN structure (Nlay- ers, Nnodes, and Nepochs) that reduces the PEGs. Copy and paste the CM and PEG value."
   ]
  },
  {
   "cell_type": "code",
   "execution_count": 10,
   "id": "f4c04d25",
   "metadata": {},
   "outputs": [
    {
     "name": "stdout",
     "output_type": "stream",
     "text": [
      "Number of Hidden layers= 1\n",
      "Number of nodes/layer= 30\n"
     ]
    },
    {
     "data": {
      "image/png": "[encoded data removed]",
      "text/plain": [
       "<Figure size 432x288 with 2 Axes>"
      ]
     },
     "metadata": {
      "needs_background": "light"
     },
     "output_type": "display_data"
    },
    {
     "name": "stdout",
     "output_type": "stream",
     "text": [
      "\n",
      "EDB.csv CM=\n",
      " [[ 97   0   1   0   2   0   0   4   1   6]\n",
      " [  0  98   0   0   1   0   0   1   0   4]\n",
      " [  3   0  86   3   0   1   3   6   1   2]\n",
      " [  0   0   3 107   0   0   0   1   2   2]\n",
      " [  2   5   0   0 103   0   0   0   0   0]\n",
      " [  0   6   1   0   1  78   0   1   0  10]\n",
      " [  1   1   4   2   0   1  94   1   5   1]\n",
      " [  3   0   0   0   0   1   1  91   0   3]\n",
      " [  0   0   4   1   0   1   2   0  85   0]\n",
      " [  0   5   0   0   0   9   0   4   0  88]]\n",
      "\n",
      "EDB.csv Nerr= 123\n",
      "\n",
      "EDB.csv Ntotal= 1050\n",
      "\n",
      "EDB.csv PEG= 0.1171\n"
     ]
    }
   ],
   "source": [
    "Nfeatures = 784\n",
    "model, history = DNNfit(Nfeatures, Xtrain, ytrain)   \n",
    "# plot loss learning curves\n",
    "plt.subplot(211)\n",
    "plt.title(filename + ' Cross-Entropy Loss', pad=-40)\n",
    "plt.plot(history.history['loss'], label='train')\n",
    "plt.plot(history.history['val_loss'], label='val')\n",
    "plt.legend()\n",
    "# plot accuracy learning curves\n",
    "plt.subplot(212)\n",
    "plt.title(filename + 'Accuracy', pad=-40)\n",
    "plt.plot(history.history['accuracy'], label='train')\n",
    "plt.plot(history.history['val_accuracy'], label='val')\n",
    "plt.legend()\n",
    "plt.show()\n",
    "\n",
    "\n",
    "\n",
    "Nerr, Ntotal, CM, PE = DNNevaluate(model,Xtest,ytest)\n",
    "print('\\n' + filename + ' CM=\\n', CM)\n",
    "print('\\n' + filename + ' Nerr= %d' % Nerr)\n",
    "print('\\n' + filename + ' Ntotal= %d' % Ntotal)\n",
    "print('\\n' + filename + ' PEG= %.4f' % PE)"
   ]
  },
  {
   "cell_type": "markdown",
   "id": "d7245430",
   "metadata": {},
   "source": [
    "# Lec5 HW3. After replacing the DNN in the 7 regularization programs above with your DNN, fill in the values in the following tables from the Box plots for the Chinese spoken digits and the English spoken digits."
   ]
  },
  {
   "cell_type": "markdown",
   "id": "92e77fe7",
   "metadata": {},
   "source": [
    "## No Regularization"
   ]
  },
  {
   "cell_type": "code",
   "execution_count": 17,
   "id": "a1062111",
   "metadata": {},
   "outputs": [
    {
     "name": "stdout",
     "output_type": "stream",
     "text": [
      "\n",
      "EDB Restart=   0 PEG= 0.1057\n",
      "\n",
      "EDB Restart=   1 PEG= 0.1048\n",
      "\n",
      "EDB Restart=   2 PEG= 0.1248\n",
      "\n",
      "EDB Restart=   3 PEG= 0.1048\n",
      "\n",
      "EDB Restart=   4 PEG= 0.1105\n",
      "\n",
      "EDB Restart=   5 PEG= 0.1105\n",
      "\n",
      "EDB Restart=   6 PEG= 0.0990\n",
      "\n",
      "EDB Restart=   7 PEG= 0.1086\n",
      "\n",
      "EDB Restart=   8 PEG= 0.1105\n",
      "\n",
      "EDB Restart=   9 PEG= 0.1124\n"
     ]
    },
    {
     "data": {
      "image/png": "[encoded data removed]",
      "text/plain": [
       "<Figure size 432x288 with 1 Axes>"
      ]
     },
     "metadata": {
      "needs_background": "light"
     },
     "output_type": "display_data"
    }
   ],
   "source": [
    "def DNNfit(Xtrain, ytrain):  \n",
    "    \n",
    "    Nfeatures = Xtrain.shape[1]   # number of columns minus label\n",
    "    Nlayers = 2 # int(input('Number of Hidden layers= '))\n",
    "    Nnodes = 50 # int(input('Number of nodes/layer= '))\n",
    "    Nepochs = 100\n",
    "    \n",
    "    model = Sequential()\n",
    "# first hidden layer\n",
    "    model.add(Dense(Nnodes,  input_dim=Nfeatures, activation='relu'))  # output layer\n",
    "# additional hidden layers    \n",
    "    for n in range(Nlayers-1):  # first hidden layer is previous statement\n",
    "        model.add(Dense(Nnodes, activation='relu'))\n",
    "    model.add(Dense(10, activation='softmax')) \n",
    "    model.compile(loss='categorical_crossentropy', \n",
    "                  optimizer='adam', metrics=['accuracy'])    \n",
    "    ytrain_onehot = to_categorical(ytrain)\n",
    "    history = model.fit(Xtrain, ytrain_onehot, \n",
    "                  validation_split= .3, \n",
    "                  epochs = Nepochs, verbose=0)\n",
    "    return model, history\n",
    " \n",
    "Nrestarts = 10\n",
    "PEG_vals_no = np.zeros(Nrestarts)\n",
    "\n",
    "for restart in range(Nrestarts):\n",
    "\n",
    "    model, history = DNNfit(Xtrain, ytrain)\n",
    "    Nerr, Ntotal,CM, PEG = DNNevaluate(model,Xtest,ytest) \n",
    "    PEG_vals_no[restart] = PEG\n",
    "    \n",
    "\n",
    "    Nerr, Ntotal, CM, PE = DNNevaluate(model,Xtest,ytest)\n",
    "    print('\\n' + Language + 'DB Restart=  %2d PEG= %.4f' % (restart,PE))\n",
    "    \n",
    "    \n",
    "fig = plt.figure()\n",
    "ax = fig.add_subplot(111)\n",
    "ax.boxplot(PEG_vals_no)\n",
    "ax.set_title(Language + ' - No Regularization')\n",
    "ax.set_xlabel('PEG')\n",
    "ax.set_ylabel('PE')\n",
    "plt.show()    "
   ]
  },
  {
   "cell_type": "markdown",
   "id": "e7db5570",
   "metadata": {},
   "source": [
    "## Weight Size Regularization"
   ]
  },
  {
   "cell_type": "code",
   "execution_count": 13,
   "id": "1812cc63",
   "metadata": {},
   "outputs": [],
   "source": [
    "# import activity regularizer\n",
    "from keras.regularizers import l2  # l1: sum of absolute values  l2: sum of squares  "
   ]
  },
  {
   "cell_type": "code",
   "execution_count": 18,
   "id": "d8070e31",
   "metadata": {},
   "outputs": [
    {
     "name": "stdout",
     "output_type": "stream",
     "text": [
      "\n",
      "EDB Restart=   0 PEG= 0.1162\n",
      "\n",
      "EDB Restart=   1 PEG= 0.1095\n",
      "\n",
      "EDB Restart=   2 PEG= 0.1229\n",
      "\n",
      "EDB Restart=   3 PEG= 0.1457\n",
      "\n",
      "EDB Restart=   4 PEG= 0.1467\n",
      "\n",
      "EDB Restart=   5 PEG= 0.1190\n",
      "\n",
      "EDB Restart=   6 PEG= 0.1210\n",
      "\n",
      "EDB Restart=   7 PEG= 0.1257\n",
      "\n",
      "EDB Restart=   8 PEG= 0.1124\n",
      "\n",
      "EDB Restart=   9 PEG= 0.1048\n"
     ]
    },
    {
     "data": {
      "image/png": "[encoded data removed]",
      "text/plain": [
       "<Figure size 432x288 with 1 Axes>"
      ]
     },
     "metadata": {
      "needs_background": "light"
     },
     "output_type": "display_data"
    }
   ],
   "source": [
    "def DNNfit(Xtrain, ytrain):  \n",
    "    \n",
    "    Nfeatures = Xtrain.shape[1]   # number of columns minus label\n",
    "    Nlayers = 2 # int(input('Number of Hidden layers= '))\n",
    "    Nnodes = 50 # int(input('Number of nodes/layer= '))\n",
    "    Nepochs = 100\n",
    "    \n",
    "    model = Sequential()\n",
    "# first hidden layer\n",
    "    model.add(Dense(Nnodes,  input_dim=Nfeatures, activation='relu', kernel_regularizer=l2(0.01), bias_regularizer=l2(0.01)))  # output layer\n",
    "# additional hidden layers    \n",
    "    for n in range(Nlayers-1):  # first hidden layer is previous statement\n",
    "        model.add(Dense(Nnodes, kernel_regularizer=l2(0.01), bias_regularizer=l2(0.01)))  # output layer\n",
    "    model.add(Dense(10, activation='softmax'))     \n",
    "    model.compile(loss='categorical_crossentropy', \n",
    "                  optimizer='adam', metrics=['accuracy'])    \n",
    "    ytrain_onehot = to_categorical(ytrain)\n",
    "    history = model.fit(Xtrain, ytrain_onehot, \n",
    "                  validation_split= .3, \n",
    "                  epochs = Nepochs, verbose=0)\n",
    "    return model, history\n",
    " \n",
    "Nrestarts = 10\n",
    "PEG_vals_size = np.zeros(Nrestarts)\n",
    "\n",
    "for restart in range(Nrestarts):\n",
    "\n",
    "    model, history = DNNfit(Xtrain, ytrain)\n",
    "    \n",
    "    # evaluate PEG\n",
    "    Nerr, Ntotal,CM, PEG = DNNevaluate(model,Xtest,ytest) \n",
    "    PEG_vals_size[restart] = PEG\n",
    "    \n",
    "\n",
    "    Nerr, Ntotal, CM, PE = DNNevaluate(model,Xtest,ytest)\n",
    "    print('\\n' + Language + 'DB Restart=  %2d PEG= %.4f' % (restart,PE))\n",
    "    \n",
    "    \n",
    "fig = plt.figure()\n",
    "ax = fig.add_subplot(111)\n",
    "ax.boxplot(PEG_vals_size)\n",
    "ax.set_title(Language + ' - Weight Size Regularization')\n",
    "ax.set_xlabel('PEG')\n",
    "ax.set_ylabel('PE')\n",
    "plt.show()"
   ]
  },
  {
   "cell_type": "markdown",
   "id": "a78f1ce9",
   "metadata": {},
   "source": [
    "## Train activity"
   ]
  },
  {
   "cell_type": "code",
   "execution_count": 15,
   "id": "fbe5fb30",
   "metadata": {},
   "outputs": [],
   "source": [
    "# import activity regularizer\n",
    "from keras.regularizers import l1\n",
    "# instantiate regularizer\n",
    "reg = l1(0.001)"
   ]
  },
  {
   "cell_type": "code",
   "execution_count": 19,
   "id": "082f24e6",
   "metadata": {},
   "outputs": [
    {
     "name": "stdout",
     "output_type": "stream",
     "text": [
      "\n",
      "EDB Restart=   0 PEG= 0.0962\n",
      "\n",
      "EDB Restart=   1 PEG= 0.0886\n",
      "\n",
      "EDB Restart=   2 PEG= 0.0962\n",
      "\n",
      "EDB Restart=   3 PEG= 0.1105\n",
      "\n",
      "EDB Restart=   4 PEG= 0.1105\n",
      "\n",
      "EDB Restart=   5 PEG= 0.0952\n",
      "\n",
      "EDB Restart=   6 PEG= 0.1095\n",
      "\n",
      "EDB Restart=   7 PEG= 0.0981\n",
      "\n",
      "EDB Restart=   8 PEG= 0.0905\n",
      "\n",
      "EDB Restart=   9 PEG= 0.1048\n"
     ]
    },
    {
     "data": {
      "image/png": "[encoded data removed]",
      "text/plain": [
       "<Figure size 432x288 with 1 Axes>"
      ]
     },
     "metadata": {
      "needs_background": "light"
     },
     "output_type": "display_data"
    }
   ],
   "source": [
    "def DNNfit(Xtrain, ytrain):  \n",
    "    \n",
    "    Nfeatures = Xtrain.shape[1]   # number of columns minus label\n",
    "    Nlayers = 2 # int(input('Number of Hidden layers= '))\n",
    "    Nnodes = 50 # int(input('Number of nodes/layer= '))\n",
    "    Nepochs = 100\n",
    "    \n",
    "    model = Sequential()\n",
    "# first hidden layer\n",
    "    model.add(Dense(Nnodes, input_dim=Nfeatures, activation='relu', activity_regularizer=l1(0.001)))\n",
    "# additional hidden layers    \n",
    "    for n in range(Nlayers-1):  # first hidden layer is previous statement\n",
    "        model.add(Dense(Nnodes, activation='relu', activity_regularizer=l1(0.001)))\n",
    "  # output layer\n",
    "    model.add(Dense(10, activation='softmax'))     \n",
    "    model.compile(loss='categorical_crossentropy', \n",
    "                  optimizer='adam', metrics=['accuracy'])    \n",
    "    ytrain_onehot = to_categorical(ytrain)\n",
    "    history = model.fit(Xtrain, ytrain_onehot, \n",
    "                  validation_split= .3, \n",
    "                  epochs = Nepochs, verbose=0)\n",
    "    return model, history\n",
    "\n",
    "Nrestarts = 10\n",
    "PEG_vals_act = np.zeros(Nrestarts)\n",
    "\n",
    "for restart in range(Nrestarts):\n",
    "\n",
    "    model, history = DNNfit(Xtrain, ytrain)\n",
    " \n",
    "    # evaluate PEG\n",
    "    Nerr, Ntotal,CM, PEG = DNNevaluate(model,Xtest,ytest) \n",
    "    PEG_vals_act[restart] = PEG\n",
    "    \n",
    "\n",
    "    Nerr, Ntotal, CM, PE = DNNevaluate(model,Xtest,ytest)\n",
    "    print('\\n' + Language + 'DB Restart=  %2d PEG= %.4f' % (restart,PE))\n",
    "    \n",
    "fig = plt.figure()\n",
    "ax = fig.add_subplot(111)\n",
    "ax.boxplot(PEG_vals_act)\n",
    "ax.set_title(Language + ' - Activity Regularization')\n",
    "ax.set_xlabel('PEG')\n",
    "ax.set_ylabel('PE')\n",
    "plt.show()"
   ]
  },
  {
   "cell_type": "markdown",
   "id": "b9c5ee33",
   "metadata": {},
   "source": [
    "## Weight constraint"
   ]
  },
  {
   "cell_type": "code",
   "execution_count": 20,
   "id": "ee4ae2e4",
   "metadata": {},
   "outputs": [],
   "source": [
    "# import activity regularizer\n",
    "from keras.constraints import max_norm"
   ]
  },
  {
   "cell_type": "code",
   "execution_count": 21,
   "id": "94b3f771",
   "metadata": {},
   "outputs": [
    {
     "name": "stdout",
     "output_type": "stream",
     "text": [
      "\n",
      "EDB Restart=   0 PEG= 0.1095\n",
      "\n",
      "EDB Restart=   1 PEG= 0.1114\n",
      "\n",
      "EDB Restart=   2 PEG= 0.1095\n",
      "\n",
      "EDB Restart=   3 PEG= 0.1029\n",
      "\n",
      "EDB Restart=   4 PEG= 0.1152\n",
      "\n",
      "EDB Restart=   5 PEG= 0.0990\n",
      "\n",
      "EDB Restart=   6 PEG= 0.1105\n",
      "\n",
      "EDB Restart=   7 PEG= 0.1114\n",
      "\n",
      "EDB Restart=   8 PEG= 0.1181\n",
      "\n",
      "EDB Restart=   9 PEG= 0.1124\n"
     ]
    },
    {
     "data": {
      "image/png": "[encoded data removed]",
      "text/plain": [
       "<Figure size 432x288 with 1 Axes>"
      ]
     },
     "metadata": {
      "needs_background": "light"
     },
     "output_type": "display_data"
    }
   ],
   "source": [
    "def DNNfit(Xtrain, ytrain):  \n",
    "    \n",
    "    Nfeatures = Xtrain.shape[1]   # number of columns minus label\n",
    "    Nlayers = 2 # int(input('Number of Hidden layers= '))\n",
    "    Nnodes = 50 # int(input('Number of nodes/layer= '))\n",
    "    Nepochs = 100\n",
    "    \n",
    "    model = Sequential()\n",
    "# first hidden layer\n",
    "    model.add(Dense(Nnodes, input_dim=Nfeatures, activation='relu', bias_constraint=max_norm(3), kernel_constraint=max_norm(3)))\n",
    "# additional hidden layers    \n",
    "    for n in range(Nlayers-1):  # first hidden layer is previous statement\n",
    "        model.add(Dense(Nnodes, activation='relu', bias_constraint=max_norm(3), kernel_constraint=max_norm(3)))\n",
    "  # output layer\n",
    "    model.add(Dense(10, activation='softmax'))     \n",
    "    model.compile(loss='categorical_crossentropy', \n",
    "                  optimizer='adam', metrics=['accuracy'])    \n",
    "    ytrain_onehot = to_categorical(ytrain)\n",
    "    history = model.fit(Xtrain, ytrain_onehot, \n",
    "                  validation_split= .3, \n",
    "                  epochs = Nepochs, verbose=0)\n",
    "    return model, history\n",
    "\n",
    "Nrestarts = 10\n",
    "PEG_vals_cons = np.zeros(Nrestarts)\n",
    "\n",
    "for restart in range(Nrestarts):\n",
    "\n",
    "    model, history = DNNfit(Xtrain, ytrain)    \n",
    "    # evaluate PEG\n",
    "    Nerr, Ntotal,CM, PEG = DNNevaluate(model,Xtest,ytest) \n",
    "    PEG_vals_cons[restart] = PEG\n",
    "    \n",
    "\n",
    "    Nerr, Ntotal, CM, PE = DNNevaluate(model,Xtest,ytest)\n",
    "    print('\\n' + Language + 'DB Restart=  %2d PEG= %.4f' % (restart,PE))\n",
    "    \n",
    "    \n",
    "fig = plt.figure()\n",
    "ax = fig.add_subplot(111)\n",
    "ax.boxplot(PEG_vals_cons)\n",
    "ax.set_title(Language + ' - Weight Constraint Regularization')\n",
    "ax.set_xlabel('PEG')\n",
    "ax.set_ylabel('PE')\n",
    "plt.show()"
   ]
  },
  {
   "cell_type": "markdown",
   "id": "47cb51ee",
   "metadata": {},
   "source": [
    "## Dropout"
   ]
  },
  {
   "cell_type": "code",
   "execution_count": 23,
   "id": "14d824f6",
   "metadata": {},
   "outputs": [],
   "source": [
    "from keras.layers import Dropout"
   ]
  },
  {
   "cell_type": "code",
   "execution_count": 24,
   "id": "10ba2ba1",
   "metadata": {},
   "outputs": [
    {
     "name": "stdout",
     "output_type": "stream",
     "text": [
      "\n",
      "EDB Restart=   0 PEG= 0.1038\n",
      "\n",
      "EDB Restart=   1 PEG= 0.1067\n",
      "\n",
      "EDB Restart=   2 PEG= 0.1067\n",
      "\n",
      "EDB Restart=   3 PEG= 0.1114\n",
      "\n",
      "EDB Restart=   4 PEG= 0.0905\n",
      "\n",
      "EDB Restart=   5 PEG= 0.1114\n",
      "\n",
      "EDB Restart=   6 PEG= 0.1010\n",
      "\n",
      "EDB Restart=   7 PEG= 0.1029\n",
      "\n",
      "EDB Restart=   8 PEG= 0.1105\n",
      "\n",
      "EDB Restart=   9 PEG= 0.1095\n"
     ]
    },
    {
     "data": {
      "image/png": "[encoded data removed]",
      "text/plain": [
       "<Figure size 432x288 with 1 Axes>"
      ]
     },
     "metadata": {
      "needs_background": "light"
     },
     "output_type": "display_data"
    }
   ],
   "source": [
    "def DNNfit(Xtrain, ytrain):  \n",
    "    \n",
    "    Nfeatures = Xtrain.shape[1]   # number of columns minus label\n",
    "    Nlayers = 2 # int(input('Number of Hidden layers= '))\n",
    "    Nnodes = 50 # int(input('Number of nodes/layer= '))\n",
    "    Nepochs = 100\n",
    "    \n",
    "    model = Sequential()\n",
    "# first hidden layer\n",
    "    model.add(Dense(Nnodes, input_dim=Nfeatures, activation='relu'))\n",
    "# additional hidden layers    \n",
    "    for n in range(Nlayers-1):  # first hidden layer is previous statement\n",
    "        model.add(Dense(Nnodes, activation='relu'))\n",
    "        \n",
    "        model.add(Dropout(0.4))\n",
    "\n",
    "  # output layer\n",
    "    model.add(Dense(10, activation='softmax'))     \n",
    "    model.compile(loss='categorical_crossentropy', \n",
    "                  optimizer='adam', metrics=['accuracy'])    \n",
    "    ytrain_onehot = to_categorical(ytrain)\n",
    "    history = model.fit(Xtrain, ytrain_onehot, \n",
    "                  validation_split= .3, \n",
    "                  epochs = Nepochs, verbose=0)\n",
    "    return model, history\n",
    "\n",
    "Nrestarts = 10\n",
    "PEG_vals_drop = np.zeros(Nrestarts)\n",
    "\n",
    "for restart in range(Nrestarts):\n",
    "    model, history = DNNfit(Xtrain, ytrain)\n",
    "    Nerr, Ntotal,CM, PEG = DNNevaluate(model,Xtest,ytest) \n",
    "    PEG_vals_drop[restart] = PEG\n",
    "    Nerr, Ntotal, CM, PE = DNNevaluate(model,Xtest,ytest)\n",
    "    print('\\n' + Language + 'DB Restart=  %2d PEG= %.4f' % (restart,PE))\n",
    "    \n",
    "fig = plt.figure()\n",
    "ax = fig.add_subplot(111)\n",
    "ax.boxplot(PEG_vals_drop)\n",
    "ax.set_title(Language + ' - Dropout Regularization')\n",
    "ax.set_xlabel('PEG')\n",
    "ax.set_ylabel('PE')\n",
    "plt.show()    \n"
   ]
  },
  {
   "cell_type": "markdown",
   "id": "167e2cae",
   "metadata": {},
   "source": [
    "## Adding noise"
   ]
  },
  {
   "cell_type": "code",
   "execution_count": 25,
   "id": "cf4d3596",
   "metadata": {},
   "outputs": [],
   "source": [
    "from keras.layers import GaussianNoise"
   ]
  },
  {
   "cell_type": "code",
   "execution_count": 26,
   "id": "e24efe8d",
   "metadata": {},
   "outputs": [
    {
     "name": "stdout",
     "output_type": "stream",
     "text": [
      "\n",
      "EDB Restart=   0 PEG= 0.1086\n",
      "\n",
      "EDB Restart=   1 PEG= 0.1248\n",
      "\n",
      "EDB Restart=   2 PEG= 0.1076\n",
      "\n",
      "EDB Restart=   3 PEG= 0.1152\n",
      "\n",
      "EDB Restart=   4 PEG= 0.1000\n",
      "\n",
      "EDB Restart=   5 PEG= 0.1114\n",
      "\n",
      "EDB Restart=   6 PEG= 0.1105\n",
      "\n",
      "EDB Restart=   7 PEG= 0.1105\n",
      "\n",
      "EDB Restart=   8 PEG= 0.1171\n",
      "\n",
      "EDB Restart=   9 PEG= 0.1229\n"
     ]
    },
    {
     "data": {
      "image/png": "[encoded data removed]",
      "text/plain": [
       "<Figure size 432x288 with 1 Axes>"
      ]
     },
     "metadata": {
      "needs_background": "light"
     },
     "output_type": "display_data"
    }
   ],
   "source": [
    "def DNNfit(Xtrain, ytrain):  \n",
    "    \n",
    "    Nfeatures = Xtrain.shape[1]   # number of columns minus label\n",
    "    Nlayers = 2 # int(input('Number of Hidden layers= '))\n",
    "    Nnodes = 50 # int(input('Number of nodes/layer= '))\n",
    "    Nepochs = 100\n",
    "    \n",
    "    model = Sequential()\n",
    "    model.add(GaussianNoise(0.01, input_shape=(784,)))\n",
    "    model.add(Dense(Nnodes, input_dim=Nfeatures, activation='relu'))\n",
    "# additional hidden layers    \n",
    "    for n in range(Nlayers-1):  # first hidden layer is previous statement\n",
    "        model.add(Dense(Nnodes, activation='relu'))\n",
    "  # output layer\n",
    "    model.add(Dense(10, activation='softmax'))     \n",
    "    model.compile(loss='categorical_crossentropy', \n",
    "                  optimizer='adam', metrics=['accuracy'])    \n",
    "    ytrain_onehot = to_categorical(ytrain)\n",
    "    history = model.fit(Xtrain, ytrain_onehot, \n",
    "                  validation_split= .3, \n",
    "                  epochs = Nepochs, verbose=0)\n",
    "    return model, history\n",
    "\n",
    "Nrestarts = 10\n",
    "PEG_vals_add = np.zeros(Nrestarts)\n",
    "\n",
    "for restart in range(Nrestarts):\n",
    "    model, history = DNNfit(Xtrain, ytrain)\n",
    "    Nerr, Ntotal,CM, PEG = DNNevaluate(model,Xtest,ytest) \n",
    "    PEG_vals_add[restart] = PEG\n",
    "    Nerr, Ntotal, CM, PE = DNNevaluate(model,Xtest,ytest)\n",
    "    print('\\n' + Language + 'DB Restart=  %2d PEG= %.4f' % (restart,PE))\n",
    "    \n",
    "    \n",
    "fig = plt.figure()\n",
    "ax = fig.add_subplot(111)\n",
    "ax.boxplot(PEG_vals_add)\n",
    "ax.set_title(Language + ' - Input Noise Regularization')\n",
    "ax.set_xlabel('PEG')\n",
    "ax.set_ylabel('PE')\n",
    "plt.show()"
   ]
  },
  {
   "cell_type": "markdown",
   "id": "e4daba4a",
   "metadata": {},
   "source": [
    "## Early stopping"
   ]
  },
  {
   "cell_type": "code",
   "execution_count": 27,
   "id": "347c9641",
   "metadata": {},
   "outputs": [],
   "source": [
    "from keras.callbacks import EarlyStopping"
   ]
  },
  {
   "cell_type": "code",
   "execution_count": 29,
   "id": "18f2f973",
   "metadata": {},
   "outputs": [
    {
     "name": "stdout",
     "output_type": "stream",
     "text": [
      "Epoch 00003: early stopping\n",
      "\n",
      "EDB Restart=   0 PEG= 0.1095\n",
      "Epoch 00003: early stopping\n",
      "\n",
      "EDB Restart=   1 PEG= 0.1248\n",
      "Epoch 00003: early stopping\n",
      "\n",
      "EDB Restart=   2 PEG= 0.1076\n",
      "Epoch 00002: early stopping\n",
      "\n",
      "EDB Restart=   3 PEG= 0.1171\n",
      "Epoch 00002: early stopping\n",
      "\n",
      "EDB Restart=   4 PEG= 0.1229\n",
      "Epoch 00002: early stopping\n",
      "\n",
      "EDB Restart=   5 PEG= 0.1086\n",
      "Epoch 00002: early stopping\n",
      "\n",
      "EDB Restart=   6 PEG= 0.1305\n",
      "Epoch 00003: early stopping\n",
      "\n",
      "EDB Restart=   7 PEG= 0.1200\n",
      "Epoch 00002: early stopping\n",
      "\n",
      "EDB Restart=   8 PEG= 0.1086\n",
      "Epoch 00003: early stopping\n",
      "\n",
      "EDB Restart=   9 PEG= 0.1181\n"
     ]
    },
    {
     "data": {
      "image/png": "[encoded data removed]",
      "text/plain": [
       "<Figure size 432x288 with 1 Axes>"
      ]
     },
     "metadata": {
      "needs_background": "light"
     },
     "output_type": "display_data"
    }
   ],
   "source": [
    "def DNNfit(Xtrain, ytrain):  \n",
    "    \n",
    "    Nfeatures = Xtrain.shape[1]   # number of columns minus label\n",
    "    Nlayers = 2 # int(input('Number of Hidden layers= '))\n",
    "    Nnodes = 50 # int(input('Number of nodes/layer= '))\n",
    "    Nepochs = 100\n",
    "    model = Sequential()\n",
    "    model.add(Dense(Nnodes, input_dim=Nfeatures, activation='relu'))\n",
    "    for n in range(Nlayers-1):  # first hidden layer is previous statement\n",
    "        model.add(Dense(Nnodes, activation='relu'))\n",
    "  # output layer\n",
    "    model.add(Dense(10, activation='softmax'))     \n",
    "    model.compile(loss='categorical_crossentropy', \n",
    "                  optimizer='adam', metrics=['accuracy'])    \n",
    "    ytrain_onehot = to_categorical(ytrain)\n",
    "    model.fit(Xtrain, ytrain_onehot,    # initially fit without ES\n",
    "                  validation_split= .3, \n",
    "                  epochs = 50,\n",
    "                  verbose=0)\n",
    "    \n",
    "  # simple early stopping\n",
    "    es = EarlyStopping(monitor='val_loss', mode='min', verbose=1)\n",
    "    \n",
    "    history = model.fit(Xtrain, ytrain_onehot, \n",
    "                  validation_split= .3, \n",
    "                  epochs = 10*Nepochs,\n",
    "                  callbacks = [es],\n",
    "                  verbose=0)\n",
    "    return model, history\n",
    "\n",
    "Nrestarts = 10\n",
    "PEG_vals_stop = np.zeros(Nrestarts)\n",
    "\n",
    "for restart in range(Nrestarts):\n",
    "\n",
    "    model, history = DNNfit(Xtrain, ytrain)\n",
    "    Nerr, Ntotal,CM, PEG = DNNevaluate(model,Xtest,ytest) \n",
    "    PEG_vals_stop[restart] = PEG\n",
    "    Nerr, Ntotal, CM, PE = DNNevaluate(model,Xtest,ytest)\n",
    "    print('\\n' + Language + 'DB Restart=  %2d PEG= %.4f' % (restart,PE))\n",
    "    \n",
    "    \n",
    "fig = plt.figure()\n",
    "ax = fig.add_subplot(111)\n",
    "ax.boxplot(PEG_vals_stop)\n",
    "ax.set_title(Language + ' - Early Stopping Regularization')\n",
    "ax.set_xlabel('PEG')\n",
    "ax.set_ylabel('PE')\n",
    "plt.show()"
   ]
  },
  {
   "cell_type": "code",
   "execution_count": null,
   "id": "9b5ba483",
   "metadata": {},
   "outputs": [],
   "source": []
  }
 ],
 "metadata": {
  "kernelspec": {
   "display_name": "Python 3",
   "language": "python",
   "name": "python3"
  },
  "language_info": {
   "codemirror_mode": {
    "name": "ipython",
    "version": 3
   },
   "file_extension": ".py",
   "mimetype": "text/x-python",
   "name": "python",
   "nbconvert_exporter": "python",
   "pygments_lexer": "ipython3",
   "version": "3.8.3"
  }
 },
 "nbformat": 4,
 "nbformat_minor": 5
}
