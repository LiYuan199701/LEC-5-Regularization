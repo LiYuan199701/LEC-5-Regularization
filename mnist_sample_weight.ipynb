{
  "nbformat": 4,
  "nbformat_minor": 0,
  "metadata": {
    "colab": {
      "name": "multi-class-mnist.ipynb",
      "provenance": []
    },
    "kernelspec": {
      "name": "python3",
      "display_name": "Python 3.8.3 64-bit ('base': conda)"
    },
    "accelerator": "TPU",
    "interpreter": {
      "hash": "0a3639af170be501a1b98eccbb561b3aa1181b49744dcf3f527189d539716f03"
    }
  },
  "cells": [
    {
      "cell_type": "code",
      "metadata": {
        "id": "23g_bOlt-5X7"
      },
      "source": [
        "import tensorflow as tf\n",
        "import numpy as np"
      ],
      "execution_count": 1,
      "outputs": []
    },
    {
      "cell_type": "code",
      "metadata": {
        "id": "uuCDf8eixapG"
      },
      "source": [
        "inputs = tf.keras.Input(shape=(784,), name='digits')\n",
        "x = tf.keras.layers.Dense(64, activation='relu', name='dense_1')(inputs)\n",
        "x = tf.keras.layers.Dense(64, activation='relu', name='dense_2')(x)\n",
        "outputs = tf.keras.layers.Dense(10, name='predictions')(x)\n",
        "\n",
        "model = tf.keras.Model(inputs=inputs, outputs=outputs)"
      ],
      "execution_count": 2,
      "outputs": []
    },
    {
      "cell_type": "code",
      "metadata": {
        "id": "AZwZ_vH2-5aO",
        "colab": {
          "base_uri": "https://localhost:8080/",
          "height": 50
        },
        "outputId": "70709ea7-6d29-4591-e1fc-95c4968073af"
      },
      "source": [
        "(x_train, y_train), (x_test, y_test) = tf.keras.datasets.mnist.load_data()\n"
      ],
      "execution_count": 3,
      "outputs": []
    },
    {
      "cell_type": "code",
      "metadata": {
        "id": "1M8Ctems-5dh"
      },
      "source": [
        "x_train = x_train.reshape(60000, 784).astype('float32') / 255\n",
        "x_test = x_test.reshape(10000, 784).astype('float32') / 255\n"
      ],
      "execution_count": 4,
      "outputs": []
    },
    {
      "cell_type": "code",
      "metadata": {
        "id": "3wW5VKTp-5Sm"
      },
      "source": [
        "y_train = y_train.astype('float32')\n",
        "y_test = y_test.astype('float32')"
      ],
      "execution_count": 5,
      "outputs": []
    },
    {
      "cell_type": "code",
      "metadata": {
        "id": "AZli3o1VyBYn"
      },
      "source": [
        "x_val = x_train[-10000:]\n",
        "y_val = y_train[-10000:]\n",
        "x_train = x_train[:-10000]\n",
        "y_train = y_train[:-10000]"
      ],
      "execution_count": 6,
      "outputs": []
    },
    {
      "cell_type": "code",
      "metadata": {
        "id": "mpP3GCtMyEaN"
      },
      "source": [
        "model.compile(optimizer=tf.keras.optimizers.RMSprop(),  # Optimizer\n",
        "              loss=tf.keras.losses.SparseCategoricalCrossentropy(from_logits=True),\n",
        "              metrics=['sparse_categorical_accuracy'])"
      ],
      "execution_count": 7,
      "outputs": []
    },
    {
      "cell_type": "code",
      "metadata": {
        "id": "bPqpsHs3yEz4"
      },
      "source": [
        "sample_weight = np.ones(shape=(len(y_train),))\n",
        "sample_weight[y_train == 3] = 1.5"
      ],
      "execution_count": 8,
      "outputs": []
    },
    {
      "cell_type": "code",
      "metadata": {
        "id": "RrRuMDDZyE4I",
        "colab": {
          "base_uri": "https://localhost:8080/",
          "height": 34
        },
        "outputId": "757a45eb-37b3-4b80-ef6a-ac8755db42ce"
      },
      "source": [
        "sample_weight.shape,y_train.shape"
      ],
      "execution_count": 9,
      "outputs": [
        {
          "output_type": "execute_result",
          "data": {
            "text/plain": [
              "((50000,), (50000,))"
            ]
          },
          "metadata": {},
          "execution_count": 9
        }
      ]
    },
    {
      "cell_type": "code",
      "metadata": {
        "id": "VvXfh7kUyE7g",
        "colab": {
          "base_uri": "https://localhost:8080/",
          "height": 202
        },
        "outputId": "ece3a6ca-9df0-4574-a5b6-4a2a75019a81"
      },
      "source": [
        "model.fit(x_train, y_train,\n",
        "          sample_weight=sample_weight,\n",
        "          batch_size=64,\n",
        "          epochs=5)"
      ],
      "execution_count": 10,
      "outputs": [
        {
          "output_type": "stream",
          "name": "stdout",
          "text": [
            "Epoch 1/5\n",
            "782/782 [==============================] - 1s 661us/step - loss: 0.6203 - sparse_categorical_accuracy: 0.8312\n",
            "Epoch 2/5\n",
            "782/782 [==============================] - 1s 654us/step - loss: 0.1913 - sparse_categorical_accuracy: 0.9448\n",
            "Epoch 3/5\n",
            "782/782 [==============================] - 1s 677us/step - loss: 0.1335 - sparse_categorical_accuracy: 0.9608\n",
            "Epoch 4/5\n",
            "782/782 [==============================] - 1s 656us/step - loss: 0.1024 - sparse_categorical_accuracy: 0.9708\n",
            "Epoch 5/5\n",
            "782/782 [==============================] - 1s 664us/step - loss: 0.0849 - sparse_categorical_accuracy: 0.9755\n"
          ]
        },
        {
          "output_type": "execute_result",
          "data": {
            "text/plain": [
              "<tensorflow.python.keras.callbacks.History at 0x7fd343d23940>"
            ]
          },
          "metadata": {},
          "execution_count": 10
        }
      ]
    }
  ]
}